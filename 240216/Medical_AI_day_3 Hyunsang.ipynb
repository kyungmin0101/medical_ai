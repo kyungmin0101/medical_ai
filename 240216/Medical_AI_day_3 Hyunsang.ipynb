{
  "nbformat": 4,
  "nbformat_minor": 0,
  "metadata": {
    "colab": {
      "provenance": [],
      "mount_file_id": "1iZVtxTW5m4lm3h9y-Uh8f-B-r2ew649F",
      "authorship_tag": "ABX9TyMT2VBk3gOznXuP3lWXz8G9",
      "include_colab_link": true
    },
    "kernelspec": {
      "name": "python3",
      "display_name": "Python 3"
    },
    "language_info": {
      "name": "python"
    }
  },
  "cells": [
    {
      "cell_type": "markdown",
      "metadata": {
        "id": "view-in-github",
        "colab_type": "text"
      },
      "source": [
        "<a href=\"https://colab.research.google.com/github/kyungmin0101/medical_ai/blob/main/240216/Medical_AI_day_3%20Hyunsang.ipynb\" target=\"_parent\"><img src=\"https://colab.research.google.com/assets/colab-badge.svg\" alt=\"Open In Colab\"/></a>"
      ]
    },
    {
      "cell_type": "code",
      "execution_count": null,
      "metadata": {
        "id": "vKaDmO2NG2ci"
      },
      "outputs": [],
      "source": []
    },
    {
      "cell_type": "code",
      "source": [
        "from google.colab import drive\n",
        "drive.mount('/content/drive')"
      ],
      "metadata": {
        "id": "2zZOPii9G4c2"
      },
      "execution_count": null,
      "outputs": []
    },
    {
      "cell_type": "code",
      "source": [
        "import glob\n",
        "import csv\n",
        "import pandas as pd\n",
        "path = \"/content/drive/MyDrive/1stSeries_07.05.21/*/{}*\".format('W')\n",
        "df_list = []\n",
        "ri_list = []\n",
        "for file in glob.glob(path, recursive = True) :\n",
        "  f = open(file,'rt')\n",
        "  reader = csv.reader(f)\n",
        "  csv_context = []\n",
        "  for raw in reader :\n",
        "    csv_context.append(raw)\n",
        "  f.close()\n",
        "\n",
        "  df_list.append(pd.DataFrame(csv_context)[24:])\n",
        "  ri_list.append(file.split('/')[-2])"
      ],
      "metadata": {
        "id": "28rzorTyHQBM"
      },
      "execution_count": 33,
      "outputs": []
    },
    {
      "cell_type": "code",
      "source": [
        "from sklearn.model_selection import train_test_split\n",
        "from sklearn.neighbors import KNeighborsClassifier\n",
        "from sklearn.ensemble import GradientBoostingClassifier\n",
        "from sklearn.metrics import accuracy_score\n",
        "from sklearn.discriminant_analysis import LinearDiscriminantAnalysis\n",
        "from sklearn.decomposition import PCA\n",
        "import numpy as np\n",
        "\n",
        "x_train, x_test, y_train, y_test = train_test_split(df_list, ri_list, test_size=0.1)\n",
        "\n",
        "PCA_model = PCA(n_components = 2)\n",
        "knn_model = KNeighborsClassifier(n_neighbors = 3)\n",
        "xgb_model = GradientBoostingClassifier(n_estimators=80, learning_rate=1.0, max_depth=1, random_state=0)\n",
        "LDA_model = LinearDiscriminantAnalysis(n_components = 5)\n",
        "\n",
        "nsamples, nx, ny = np.array(x_train).shape\n",
        "d2_x_train = np.array(x_train).reshape((nsamples,nx*ny))\n",
        "\n",
        "nsamples, nx, ny = np.array(x_test).shape\n",
        "d2_x_test = np.array(x_test).reshape((nsamples,nx*ny))\n",
        "\n",
        "\n",
        "PCA_model.fit(d2_x_train, y_train)\n",
        "com_x_train = PCA_model.fit_transform(d2_x_train)\n",
        "knn_model.fit(com_x_train, y_train)\n",
        "\n",
        "LDA_model.fit(d2_x_train, y_train)\n",
        "knn_model.fit(d2_x_train, y_train)\n",
        "xgb_model.fit(d2_x_train, y_train)\n"
      ],
      "metadata": {
        "colab": {
          "base_uri": "https://localhost:8080/",
          "height": 92
        },
        "id": "AcKxck2jHh_R",
        "outputId": "2a1d4a5f-a64e-4d43-8830-c7cd8392840a"
      },
      "execution_count": 53,
      "outputs": [
        {
          "output_type": "execute_result",
          "data": {
            "text/plain": [
              "GradientBoostingClassifier(learning_rate=1.0, max_depth=1, n_estimators=80,\n",
              "                           random_state=0)"
            ],
            "text/html": [
              "<style>#sk-container-id-6 {color: black;background-color: white;}#sk-container-id-6 pre{padding: 0;}#sk-container-id-6 div.sk-toggleable {background-color: white;}#sk-container-id-6 label.sk-toggleable__label {cursor: pointer;display: block;width: 100%;margin-bottom: 0;padding: 0.3em;box-sizing: border-box;text-align: center;}#sk-container-id-6 label.sk-toggleable__label-arrow:before {content: \"▸\";float: left;margin-right: 0.25em;color: #696969;}#sk-container-id-6 label.sk-toggleable__label-arrow:hover:before {color: black;}#sk-container-id-6 div.sk-estimator:hover label.sk-toggleable__label-arrow:before {color: black;}#sk-container-id-6 div.sk-toggleable__content {max-height: 0;max-width: 0;overflow: hidden;text-align: left;background-color: #f0f8ff;}#sk-container-id-6 div.sk-toggleable__content pre {margin: 0.2em;color: black;border-radius: 0.25em;background-color: #f0f8ff;}#sk-container-id-6 input.sk-toggleable__control:checked~div.sk-toggleable__content {max-height: 200px;max-width: 100%;overflow: auto;}#sk-container-id-6 input.sk-toggleable__control:checked~label.sk-toggleable__label-arrow:before {content: \"▾\";}#sk-container-id-6 div.sk-estimator input.sk-toggleable__control:checked~label.sk-toggleable__label {background-color: #d4ebff;}#sk-container-id-6 div.sk-label input.sk-toggleable__control:checked~label.sk-toggleable__label {background-color: #d4ebff;}#sk-container-id-6 input.sk-hidden--visually {border: 0;clip: rect(1px 1px 1px 1px);clip: rect(1px, 1px, 1px, 1px);height: 1px;margin: -1px;overflow: hidden;padding: 0;position: absolute;width: 1px;}#sk-container-id-6 div.sk-estimator {font-family: monospace;background-color: #f0f8ff;border: 1px dotted black;border-radius: 0.25em;box-sizing: border-box;margin-bottom: 0.5em;}#sk-container-id-6 div.sk-estimator:hover {background-color: #d4ebff;}#sk-container-id-6 div.sk-parallel-item::after {content: \"\";width: 100%;border-bottom: 1px solid gray;flex-grow: 1;}#sk-container-id-6 div.sk-label:hover label.sk-toggleable__label {background-color: #d4ebff;}#sk-container-id-6 div.sk-serial::before {content: \"\";position: absolute;border-left: 1px solid gray;box-sizing: border-box;top: 0;bottom: 0;left: 50%;z-index: 0;}#sk-container-id-6 div.sk-serial {display: flex;flex-direction: column;align-items: center;background-color: white;padding-right: 0.2em;padding-left: 0.2em;position: relative;}#sk-container-id-6 div.sk-item {position: relative;z-index: 1;}#sk-container-id-6 div.sk-parallel {display: flex;align-items: stretch;justify-content: center;background-color: white;position: relative;}#sk-container-id-6 div.sk-item::before, #sk-container-id-6 div.sk-parallel-item::before {content: \"\";position: absolute;border-left: 1px solid gray;box-sizing: border-box;top: 0;bottom: 0;left: 50%;z-index: -1;}#sk-container-id-6 div.sk-parallel-item {display: flex;flex-direction: column;z-index: 1;position: relative;background-color: white;}#sk-container-id-6 div.sk-parallel-item:first-child::after {align-self: flex-end;width: 50%;}#sk-container-id-6 div.sk-parallel-item:last-child::after {align-self: flex-start;width: 50%;}#sk-container-id-6 div.sk-parallel-item:only-child::after {width: 0;}#sk-container-id-6 div.sk-dashed-wrapped {border: 1px dashed gray;margin: 0 0.4em 0.5em 0.4em;box-sizing: border-box;padding-bottom: 0.4em;background-color: white;}#sk-container-id-6 div.sk-label label {font-family: monospace;font-weight: bold;display: inline-block;line-height: 1.2em;}#sk-container-id-6 div.sk-label-container {text-align: center;}#sk-container-id-6 div.sk-container {/* jupyter's `normalize.less` sets `[hidden] { display: none; }` but bootstrap.min.css set `[hidden] { display: none !important; }` so we also need the `!important` here to be able to override the default hidden behavior on the sphinx rendered scikit-learn.org. See: https://github.com/scikit-learn/scikit-learn/issues/21755 */display: inline-block !important;position: relative;}#sk-container-id-6 div.sk-text-repr-fallback {display: none;}</style><div id=\"sk-container-id-6\" class=\"sk-top-container\"><div class=\"sk-text-repr-fallback\"><pre>GradientBoostingClassifier(learning_rate=1.0, max_depth=1, n_estimators=80,\n",
              "                           random_state=0)</pre><b>In a Jupyter environment, please rerun this cell to show the HTML representation or trust the notebook. <br />On GitHub, the HTML representation is unable to render, please try loading this page with nbviewer.org.</b></div><div class=\"sk-container\" hidden><div class=\"sk-item\"><div class=\"sk-estimator sk-toggleable\"><input class=\"sk-toggleable__control sk-hidden--visually\" id=\"sk-estimator-id-6\" type=\"checkbox\" checked><label for=\"sk-estimator-id-6\" class=\"sk-toggleable__label sk-toggleable__label-arrow\">GradientBoostingClassifier</label><div class=\"sk-toggleable__content\"><pre>GradientBoostingClassifier(learning_rate=1.0, max_depth=1, n_estimators=80,\n",
              "                           random_state=0)</pre></div></div></div></div></div>"
            ]
          },
          "metadata": {},
          "execution_count": 53
        }
      ]
    },
    {
      "cell_type": "code",
      "source": [
        "pca_pred = knn_model.predict(d2_x_test)\n",
        "lda_pred = LDA_model.predict(d2_x_test)\n",
        "knn_pred = knn_model.predict(d2_x_test)\n",
        "xgb_pred = xgb_model.predict(d2_x_test)\n",
        "\n",
        "print('PCA Acc : {}'.format(accuracy_score(y_test,pca_pred)))\n",
        "print('LDA Acc : {}'.format(accuracy_score(y_test,lda_pred)))\n",
        "print('KNN Acc : {}'.format(accuracy_score(y_test,knn_pred)))\n",
        "print('XGB Acc : {}'.format(accuracy_score(y_test,xgb_pred)))"
      ],
      "metadata": {
        "id": "SvDRg15gIBZ3",
        "colab": {
          "base_uri": "https://localhost:8080/"
        },
        "outputId": "0e790005-142f-47d0-d091-461e61facf32"
      },
      "execution_count": 54,
      "outputs": [
        {
          "output_type": "stream",
          "name": "stdout",
          "text": [
            "PCA Acc : 0.75\n",
            "LDA Acc : 0.9583333333333334\n",
            "KNN Acc : 0.75\n",
            "XGB Acc : 0.75\n"
          ]
        }
      ]
    },
    {
      "cell_type": "code",
      "source": [],
      "metadata": {
        "id": "beRN49i3-q8f"
      },
      "execution_count": null,
      "outputs": []
    },
    {
      "cell_type": "code",
      "source": [
        "import numpy as np\n",
        "from scipy.signal import find_peaks\n",
        "import matplotlib.pyplot as plt\n",
        "\n",
        "\n",
        "peaks, _ = find_peaks(df_list[0][1])\n",
        "\n",
        "for index in peaks:\n",
        "  print(df_list[0].iloc[index][0])\n",
        "df_list[0].astype(float).plot(x=0, y=1)\n",
        "print(len(peaks))\n"
      ],
      "metadata": {
        "id": "zkJU8rBKIGBD"
      },
      "execution_count": null,
      "outputs": []
    }
  ]
}