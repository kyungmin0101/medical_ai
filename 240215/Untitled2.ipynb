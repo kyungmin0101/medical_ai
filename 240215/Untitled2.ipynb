{
  "nbformat": 4,
  "nbformat_minor": 0,
  "metadata": {
    "colab": {
      "provenance": [],
      "mount_file_id": "1gxvevDaXmDu72EjPbluNHapqTzoQcDiu",
      "authorship_tag": "ABX9TyMGinkEipI3E2ivJG6BT6oZ",
      "include_colab_link": true
    },
    "kernelspec": {
      "name": "python3",
      "display_name": "Python 3"
    },
    "language_info": {
      "name": "python"
    }
  },
  "cells": [
    {
      "cell_type": "markdown",
      "metadata": {
        "id": "view-in-github",
        "colab_type": "text"
      },
      "source": [
        "<a href=\"https://colab.research.google.com/github/kyungmin0101/medical_ai/blob/main/240215/Untitled2.ipynb\" target=\"_parent\"><img src=\"https://colab.research.google.com/assets/colab-badge.svg\" alt=\"Open In Colab\"/></a>"
      ]
    },
    {
      "cell_type": "code",
      "execution_count": 2,
      "metadata": {
        "id": "QqjSCRNzWYkV"
      },
      "outputs": [],
      "source": [
        "from google.colab import drive\n",
        "drive.mount('/content/drive')"
      ]
    },
    {
      "cell_type": "code",
      "source": [
        "import pandas as pd\n",
        "import csv\n",
        "\n",
        "base_directory = '/content/drive/MyDrive/1stSeries_07.05.21'\n",
        "\n",
        "all_csv_X = {}\n",
        "all_csv_Y = {}\n",
        "\n",
        "for root, dirs, files in os.walk(base_directory):\n",
        "    for file in files:\n",
        "        if file.endswith('.CSV') and file != 'REF.csv':\n",
        "            file_path = os.path.join(root, file)\n",
        "\n",
        "            with open(file_path, 'rt') as f:\n",
        "                reader = csv.reader(f)\n",
        "                csv_content = [raw for raw in reader]\n",
        "\n",
        "            df = pd.DataFrame(csv_content)\n",
        "            df.drop(index=range(0,25), inplace = True)\n",
        "            Y = float(os.path.basename(root))\n",
        "            relative_path = os.path.relpath(file_path, base_directory)\n",
        "            all_csv_X[relative_path] = df\n",
        "            all_csv_Y[relative_path] = Y\n"
      ],
      "metadata": {
        "id": "P-RLh5Vf8oUi"
      },
      "execution_count": 49,
      "outputs": []
    },
    {
      "cell_type": "code",
      "source": [
        "from sklearn.preprocessing import LabelEncoder\n",
        "from sklearn.model_selection import train_test_split\n",
        "from sklearn.neighbors import KNeighborsClassifier\n",
        "\n",
        "X_data = list(all_csv_X.values())\n",
        "Y_data = list(all_csv_Y.values())\n",
        "\n",
        "le = LabelEncoder()\n",
        "le.fit(Y_data)\n",
        "encoded_Y = le.transform(Y_data)\n"
      ],
      "metadata": {
        "id": "lxE8AR14qmcr"
      },
      "execution_count": 75,
      "outputs": []
    },
    {
      "cell_type": "code",
      "source": [
        "X_train, X_test, y_train, y_test = train_test_split(X_data, encoded_Y, test_size=0.3, train_size=0.7, random_state=123)\n",
        "\n",
        "knn = KNeighborsClassifier(n_neighbors=3)\n",
        "\n",
        "knn.fit(X_train, y_train)\n",
        "\n",
        "predicted_labels = knn.predict(X_test)\n",
        "\n",
        "from sklearn.metrics import accuracy_score\n",
        "accuracy = accuracy_score(y_test, predicted_labels)\n",
        "print(f\"Accuracy: {accuracy}\")"
      ],
      "metadata": {
        "id": "NKcXOGTeK5mK"
      },
      "execution_count": null,
      "outputs": []
    }
  ]
}