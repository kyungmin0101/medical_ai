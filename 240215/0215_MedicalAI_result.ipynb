{
  "nbformat": 4,
  "nbformat_minor": 0,
  "metadata": {
    "colab": {
      "provenance": [],
      "authorship_tag": "ABX9TyOG/KtW8tLqaGB9x2Ch6deU",
      "include_colab_link": true
    },
    "kernelspec": {
      "name": "python3",
      "display_name": "Python 3"
    },
    "language_info": {
      "name": "python"
    }
  },
  "cells": [
    {
      "cell_type": "markdown",
      "metadata": {
        "id": "view-in-github",
        "colab_type": "text"
      },
      "source": [
        "<a href=\"https://colab.research.google.com/github/kyungmin0101/medical_ai/blob/main/240215/0215_MedicalAI_result.ipynb\" target=\"_parent\"><img src=\"https://colab.research.google.com/assets/colab-badge.svg\" alt=\"Open In Colab\"/></a>"
      ]
    },
    {
      "cell_type": "code",
      "execution_count": null,
      "metadata": {
        "id": "M9IaEaV2Kb7d"
      },
      "outputs": [],
      "source": [
        "import pandas as pd\n",
        "import numpy as np\n",
        "import os\n",
        "import csv\n",
        "\n",
        "from google.colab import drive\n",
        "drive.mount('drive')\n",
        "data_path = '/content/drive/MyDrive/MedicalAI/1stSeries_07.05.21-20240214T041151Z-001/1stSeries_07.05.21'\n",
        "\n",
        "from glob import glob\n",
        "from os.path import isdir\n",
        "df_list = []\n",
        "fd_list = []\n",
        "\n",
        "# read csv files\n",
        "for x in glob(data_path+'/*/*.CSV'):\n",
        "  if not 'REF' in x:\n",
        "\n",
        "    f = open(x,'rt')\n",
        "    reader = csv.reader(f)\n",
        "    csv_content = []\n",
        "    for raw in reader:\n",
        "      csv_content.append(raw)\n",
        "    f.close()\n",
        "\n",
        "    df = pd.DataFrame(csv_content)\n",
        "    df = df.drop(df.index[0:24])\n",
        "    df_list.append(df)\n",
        "\n",
        "    fd = x.split('/')\n",
        "    name = fd[-2]\n",
        "    fd_list.append(name)\n",
        "\n",
        "  else:\n",
        "    pass\n",
        "\n",
        "# print results\n",
        "print(df_list)\n",
        "print(fd_list)"
      ]
    }
  ]
}