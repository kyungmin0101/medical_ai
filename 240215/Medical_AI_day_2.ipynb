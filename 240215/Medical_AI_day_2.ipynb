{
  "nbformat": 4,
  "nbformat_minor": 0,
  "metadata": {
    "colab": {
      "provenance": [],
      "mount_file_id": "1TEe5Mdc2PYdqOa9ik5yDOSJdagOqsKVn",
      "authorship_tag": "ABX9TyOAnoO09kUxV7iC4mINJHtP",
      "include_colab_link": true
    },
    "kernelspec": {
      "name": "python3",
      "display_name": "Python 3"
    },
    "language_info": {
      "name": "python"
    }
  },
  "cells": [
    {
      "cell_type": "markdown",
      "metadata": {
        "id": "view-in-github",
        "colab_type": "text"
      },
      "source": [
        "<a href=\"https://colab.research.google.com/github/kyungmin0101/medical_ai/blob/main/240215/Medical_AI_day_2.ipynb\" target=\"_parent\"><img src=\"https://colab.research.google.com/assets/colab-badge.svg\" alt=\"Open In Colab\"/></a>"
      ]
    },
    {
      "cell_type": "code",
      "source": [
        "import csv\n",
        "import pandas as pd\n",
        "import os\n",
        "path = '/content/drive/MyDrive/1stSeries_07.05.21/1.3'\n",
        "s = os.listdir(path)\n",
        "f = open('/content/drive/MyDrive/1stSeries_07.05.21/1.3/W0000.CSV','rt')\n",
        "reader = csv.reader(f)\n",
        "csv_context = []\n",
        "for raw in reader :\n",
        "  csv_context.append(raw)\n",
        "f.close()\n",
        "\n",
        "df = pd.DataFrame(csv_context)\n",
        "df = df[24:]\n",
        "print(df)"
      ],
      "metadata": {
        "colab": {
          "base_uri": "https://localhost:8080/"
        },
        "id": "cs_RQ-7GEw-L",
        "outputId": "9347eadf-b365-4e36-9cae-46d0d0d9c70c"
      },
      "execution_count": 101,
      "outputs": [
        {
          "output_type": "stream",
          "name": "stdout",
          "text": [
            "              0           1\n",
            "24    1475.0000  7.976E-007\n",
            "25    1475.0198  9.544E-007\n",
            "26    1475.0397  5.796E-007\n",
            "27    1475.0595  1.106E-006\n",
            "28    1475.0794  6.473E-007\n",
            "...         ...         ...\n",
            "6320  1599.9206  6.443E-007\n",
            "6321  1599.9405  8.647E-007\n",
            "6322  1599.9603  9.092E-007\n",
            "6323  1599.9802  7.652E-007\n",
            "6324  1600.0000  6.929E-007\n",
            "\n",
            "[6301 rows x 2 columns]\n"
          ]
        }
      ]
    },
    {
      "cell_type": "code",
      "source": [
        "df_list = []\n",
        "for csv_name in s :\n",
        "  if not 'REF' in csv_name :\n",
        "    f = open('/content/drive/MyDrive/1stSeries_07.05.21/1.3/W0000.CSV','rt')\n",
        "    reader = csv.reader(f)\n",
        "    csv_context = []\n",
        "    for raw in reader :\n",
        "      csv_context.append(raw)\n",
        "    f.close()\n",
        "\n",
        "    df = pd.DataFrame(csv_context)\n",
        "    df = df[24:]\n",
        "    df_list.append(df)\n",
        "  else :\n",
        "    pass"
      ],
      "metadata": {
        "colab": {
          "base_uri": "https://localhost:8080/"
        },
        "id": "nNwFcIjQF0fZ",
        "outputId": "12032e7d-460d-42be-fa76-cfffc5bf799a"
      },
      "execution_count": 102,
      "outputs": [
        {
          "output_type": "execute_result",
          "data": {
            "text/plain": [
              "['REF.CSV',\n",
              " 'W0000.CSV',\n",
              " 'W0004.CSV',\n",
              " 'W0006.CSV',\n",
              " 'W0008.CSV',\n",
              " 'W0005.CSV',\n",
              " 'W0001.CSV',\n",
              " 'W0007.CSV',\n",
              " 'W0002.CSV',\n",
              " 'W0003.CSV',\n",
              " 'W0010.CSV',\n",
              " 'W0009.CSV']"
            ]
          },
          "metadata": {},
          "execution_count": 102
        }
      ]
    }
  ]
}