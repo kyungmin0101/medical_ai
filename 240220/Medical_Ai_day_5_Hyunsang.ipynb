{
  "nbformat": 4,
  "nbformat_minor": 0,
  "metadata": {
    "colab": {
      "provenance": [],
      "authorship_tag": "ABX9TyOTmrAXmIuLbra53XKhuVzE",
      "include_colab_link": true
    },
    "kernelspec": {
      "name": "python3",
      "display_name": "Python 3"
    },
    "language_info": {
      "name": "python"
    }
  },
  "cells": [
    {
      "cell_type": "markdown",
      "metadata": {
        "id": "view-in-github",
        "colab_type": "text"
      },
      "source": [
        "<a href=\"https://colab.research.google.com/github/kyungmin0101/medical_ai/blob/main/240220/Medical_Ai_day_5_Hyunsang.ipynb\" target=\"_parent\"><img src=\"https://colab.research.google.com/assets/colab-badge.svg\" alt=\"Open In Colab\"/></a>"
      ]
    },
    {
      "cell_type": "code",
      "execution_count": 2,
      "metadata": {
        "colab": {
          "base_uri": "https://localhost:8080/"
        },
        "id": "cwuTA4ZZa5wk",
        "outputId": "68c2b030-5e72-4789-c2c6-a093f3a229e6"
      },
      "outputs": [
        {
          "output_type": "stream",
          "name": "stdout",
          "text": [
            "Mounted at /content/drive\n"
          ]
        }
      ],
      "source": [
        "from google.colab import drive\n",
        "drive.mount('/content/drive')"
      ]
    },
    {
      "cell_type": "code",
      "source": [
        "import glob\n",
        "import csv\n",
        "import pandas as pd\n",
        "\n",
        "#All of 1stSeries data\n",
        "path1 = \"/content/drive/MyDrive/Refractive Index Measurements New/1stSeries_07.05.21/*/{}*\".format('W') #training set\n",
        "df_list_1st = []\n",
        "ri_list_1st = []\n",
        "for file in glob.glob(path1, recursive = True) :\n",
        "  f = open(file,'rt')\n",
        "  reader = csv.reader(f)\n",
        "  csv_context = []\n",
        "  for raw in reader :\n",
        "    csv_context.append(raw)\n",
        "  f.close()\n",
        "\n",
        "  df_list_1st.append(pd.DataFrame(csv_context)[24:])\n",
        "  ri_list_1st.append(float(file.split('/')[-2]))\n",
        "\n",
        "#All of 2ndSeries data\n",
        "path2 = \"/content/drive/MyDrive/Refractive Index Measurements New/2ndSeries_21.05.21/*/{}*\".format('W')#test set\n",
        "df_list_2nd = []\n",
        "ri_list_2nd = []\n",
        "for file in glob.glob(path2, recursive = True) :\n",
        "  f = open(file,'rt')\n",
        "  reader = csv.reader(f)\n",
        "  csv_context = []\n",
        "  for raw in reader :\n",
        "    csv_context.append(raw)\n",
        "  f.close()\n",
        "\n",
        "  df_list_2nd.append(pd.DataFrame(csv_context)[24:])\n",
        "  ri_list_2nd.append(float(file.split('/')[-2]))"
      ],
      "metadata": {
        "id": "Ezv7eyUvbR1p"
      },
      "execution_count": 131,
      "outputs": []
    },
    {
      "cell_type": "code",
      "source": [
        "len(ri_list_1st)"
      ],
      "metadata": {
        "colab": {
          "base_uri": "https://localhost:8080/"
        },
        "id": "SzNCJj9Ag6ze",
        "outputId": "6ababca3-7bb5-4b5e-d472-38a1c8a200bd"
      },
      "execution_count": 129,
      "outputs": [
        {
          "output_type": "execute_result",
          "data": {
            "text/plain": [
              "231"
            ]
          },
          "metadata": {},
          "execution_count": 129
        }
      ]
    },
    {
      "cell_type": "code",
      "source": [
        "from sklearn.metrics import mean_squared_error, r2_score\n",
        "from sklearn.svm import SVR\n",
        "from sklearn.ensemble import RandomForestRegressor\n",
        "import xgboost as xgb\n",
        "import lightgbm as lgb\n",
        "from sklearn.model_selection import train_test_split\n",
        "import numpy as np\n",
        "\n",
        "x_train_2nd, x_test_2nd, y_train_2nd, y_test_2nd = train_test_split(df_list_2nd, ri_list_2nd, test_size=0.1)\n",
        "\n",
        "nsamples, nx, ny = np.array(df_list_1st).shape\n",
        "x_train = np.array(df_list_1st).reshape((nsamples,nx*ny))\n",
        "\n",
        "nsamples, nx, ny = np.array(x_test_2nd).shape\n",
        "x_test = np.array(x_test_2nd).reshape((nsamples,nx*ny))\n",
        "\n",
        "rf_regressor = RandomForestRegressor(n_estimators=100, random_state=40)\n",
        "svr_model = SVR(kernel='rbf', C=0.01, gamma=0.1)\n",
        "\n",
        "rf_regressor.fit(x_train, ri_list_1st)\n",
        "svr_model.fit(x_train, ri_list_1st)\n",
        "\n",
        "xgb_regressor = xgb.XGBRegressor(objective ='reg:squarederror', colsample_bytree=0.3, learning_rate=0.1,\n",
        "max_depth=2, alpha=10, n_estimators=100, random_state=0)\n",
        "xgb_regressor.fit(x_train, ri_list_1st)\n",
        "\n",
        "lgb_regressor = lgb.LGBMRegressor(objective='regression', num_leaves=31, learning_rate=0.05, n_estimators=100)\n",
        "lgb_regressor.fit(x_train, ri_list_1st)\n"
      ],
      "metadata": {
        "id": "M8QYJ_gGoAMF"
      },
      "execution_count": null,
      "outputs": []
    },
    {
      "cell_type": "code",
      "source": [
        "rf_pred = rf_regressor.predict(x_test)\n",
        "svr_pred = svr_model.predict(x_test)\n",
        "xgb_pred = xgb_regressor.predict(x_test)\n",
        "lgb_pred = lgb_regressor.predict(x_test)\n",
        "\n",
        "#rf\n",
        "mse = mean_squared_error(y_test_2nd, rf_pred)\n",
        "print(f'RF Mean Squared Error: {mse}')\n",
        "r2_value = r2_score(y_test_2nd, rf_pred)\n",
        "print(f'RF R-squared: {r2_value}')\n",
        "\n",
        "#svr\n",
        "mse = mean_squared_error(y_test_2nd, svr_pred)\n",
        "print(f'SVR Mean Squared Error: {mse}')\n",
        "r2_value = r2_score(y_test_2nd, svr_pred)\n",
        "print(f'SVR R-squared: {r2_value}')\n",
        "\n",
        "#XGB\n",
        "mse = mean_squared_error(y_test_2nd,xgb_pred)\n",
        "print(f'XGB Mean Squared Error: {mse}')\n",
        "r2_value = r2_score(y_test_2nd, xgb_pred)\n",
        "print(f'XGB R-squared: {r2_value}')\n",
        "\n",
        "#LGBM\n",
        "mse = mean_squared_error(y_test_2nd,lgb_pred)\n",
        "print(f'LGBM Mean Squared Error: {mse}')\n",
        "r2_value = r2_score(y_test_2nd, lgb_pred)\n",
        "print(f'LGBM R-squared: {r2_value}')"
      ],
      "metadata": {
        "colab": {
          "base_uri": "https://localhost:8080/"
        },
        "id": "wKfjBW6byCDz",
        "outputId": "91bc9429-2ef3-4982-9de6-4a029f2688e6"
      },
      "execution_count": 133,
      "outputs": [
        {
          "output_type": "stream",
          "name": "stdout",
          "text": [
            "RF Mean Squared Error: 0.007692282916666582\n",
            "RF R-squared: -1.1393244942300988\n",
            "SVR Mean Squared Error: 0.003604166666666662\n",
            "SVR R-squared: -0.0023658925208829285\n",
            "XGB Mean Squared Error: 0.003604166805744734\n",
            "XGB R-squared: -0.002365931200313698\n",
            "LGBM Mean Squared Error: 0.006526662317566057\n",
            "LGBM R-squared: -0.8151501592960524\n"
          ]
        }
      ]
    },
    {
      "cell_type": "code",
      "source": [],
      "metadata": {
        "id": "W7LnI1XC2frw"
      },
      "execution_count": null,
      "outputs": []
    }
  ]
}