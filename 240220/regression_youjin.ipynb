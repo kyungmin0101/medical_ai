{
  "nbformat": 4,
  "nbformat_minor": 0,
  "metadata": {
    "colab": {
      "provenance": [],
      "authorship_tag": "ABX9TyP4cgR4hzY9Nl1fguawuOEt",
      "include_colab_link": true
    },
    "kernelspec": {
      "name": "python3",
      "display_name": "Python 3"
    },
    "language_info": {
      "name": "python"
    }
  },
  "cells": [
    {
      "cell_type": "markdown",
      "metadata": {
        "id": "view-in-github",
        "colab_type": "text"
      },
      "source": [
        "<a href=\"https://colab.research.google.com/github/kyungmin0101/medical_ai/blob/main/240220/regression_youjin.ipynb\" target=\"_parent\"><img src=\"https://colab.research.google.com/assets/colab-badge.svg\" alt=\"Open In Colab\"/></a>"
      ]
    },
    {
      "cell_type": "code",
      "execution_count": 1,
      "metadata": {
        "colab": {
          "base_uri": "https://localhost:8080/"
        },
        "id": "VawSzETef_-W",
        "outputId": "54c06536-9804-49b6-f0fb-c80ce2115a39"
      },
      "outputs": [
        {
          "output_type": "stream",
          "name": "stdout",
          "text": [
            "Mounted at /content/drive\n"
          ]
        }
      ],
      "source": [
        "from google.colab import drive\n",
        "drive.mount('/content/drive')"
      ]
    },
    {
      "cell_type": "code",
      "source": [
        "import pandas as pd\n",
        "import csv\n",
        "from scipy.ndimage import gaussian_filter\n",
        "import os\n",
        "\n",
        "base_directory1 = '/content/drive/MyDrive/Refractive_Index_Measurements_New/1stSeries_07.05.21'\n",
        "\n",
        "all_csv_X1 = []\n",
        "all_csv_Y1 = []\n",
        "\n",
        "for root, dirs, files in os.walk(base_directory1):\n",
        "    for file in files:\n",
        "        if file.endswith('.CSV') and file != 'REF.CSV':\n",
        "            file_path = os.path.join(root, file)\n",
        "\n",
        "            with open(file_path, 'rt') as f:\n",
        "                reader = csv.reader(f)\n",
        "                csv_content = [raw for raw in reader]\n",
        "            f.close()\n",
        "            df = pd.DataFrame(csv_content)[24:].reset_index(drop=True)\n",
        "            df = df.astype(float)\n",
        "            df.columns = ['X', 'Y']\n",
        "            Y = float(os.path.basename(root))\n",
        "            all_csv_X1.append(df)\n",
        "            all_csv_Y1.append(Y)\n",
        "\n",
        "base_directory2 = '/content/drive/MyDrive/Refractive_Index_Measurements_New/2ndSeries_21.05.21'\n",
        "\n",
        "all_csv_X2 = []\n",
        "all_csv_Y2 = []\n",
        "\n",
        "for root, dirs, files in os.walk(base_directory2):\n",
        "    for file in files:\n",
        "        if file.endswith('.CSV') and file != 'REF.CSV':\n",
        "            file_path = os.path.join(root, file)\n",
        "\n",
        "            with open(file_path, 'rt') as f:\n",
        "                reader = csv.reader(f)\n",
        "                csv_content = [raw for raw in reader]\n",
        "            f.close()\n",
        "            df = pd.DataFrame(csv_content)[24:].reset_index(drop=True)\n",
        "            df = df.astype(float)\n",
        "            df.columns = ['X', 'Y']\n",
        "            Y = float(os.path.basename(root))\n",
        "            all_csv_X2.append(df)\n",
        "            all_csv_Y2.append(Y)"
      ],
      "metadata": {
        "id": "uAcsDbozgBBD"
      },
      "execution_count": 2,
      "outputs": []
    },
    {
      "cell_type": "code",
      "source": [
        "import numpy as np\n",
        "from scipy.ndimage import gaussian_filter\n",
        "from scipy.signal import find_peaks\n",
        "\n",
        "df_Y = pd.DataFrame(all_csv_Y1, columns=['Y'])\n",
        "\n",
        "analysis_values = []\n",
        "for df, label in zip(all_csv_X1, all_csv_X2):\n",
        "    smoothed_signal = gaussian_filter(df['Y'], sigma=40)\n",
        "    peaks, _ = find_peaks(smoothed_signal)\n",
        "\n",
        "    peak_values = df['Y'][peaks].reset_index(drop=True)\n",
        "    peak_times = df['X'][peaks].reset_index(drop=True)\n",
        "\n",
        "    time_diff = np.diff(peak_times)\n",
        "    std_signal_peak = np.std(time_diff)\n",
        "    mean_signal_peak = np.mean(time_diff)\n",
        "\n",
        "    analysis_values.append([std_signal_peak, mean_signal_peak])\n",
        "\n",
        "data = pd.DataFrame(analysis_values, columns=['std', 'mean'])\n",
        "\n",
        "spectrum_data = pd.concat([data, df_Y], axis=1)\n",
        "print(spectrum_data)\n",
        "\n",
        "df_Y_test = pd.DataFrame(all_csv_Y2, columns=['Y'])\n",
        "\n",
        "analysis_values2 = []\n",
        "for df, label in zip(all_csv_X2, all_csv_Y2):\n",
        "    smoothed_signal = gaussian_filter(df['Y'], sigma=40)\n",
        "    peaks, _ = find_peaks(smoothed_signal)\n",
        "\n",
        "    peak_values = df['Y'][peaks].reset_index(drop=True)\n",
        "    peak_times = df['X'][peaks].reset_index(drop=True)\n",
        "\n",
        "    time_diff = np.diff(peak_times)\n",
        "    std_signal_peak = np.std(time_diff)\n",
        "    mean_signal_peak = np.mean(time_diff)\n",
        "\n",
        "    analysis_values2.append([std_signal_peak, mean_signal_peak])\n",
        "\n",
        "data = pd.DataFrame(analysis_values2, columns=['std','mean'])\n",
        "\n",
        "spectrum_test = pd.concat([data, df_Y_test], axis=1)\n",
        "print(spectrum_test)\n",
        "\n"
      ],
      "metadata": {
        "colab": {
          "base_uri": "https://localhost:8080/"
        },
        "id": "9uprdjlIgXxY",
        "outputId": "27e4f20a-715c-4e9c-ab5d-3a71b9330c44"
      },
      "execution_count": 4,
      "outputs": [
        {
          "output_type": "stream",
          "name": "stdout",
          "text": [
            "          std      mean     Y\n",
            "0    0.149360  3.232519  1.31\n",
            "1    0.150904  3.229835  1.31\n",
            "2    0.143360  3.230373  1.31\n",
            "3    0.146847  3.229300  1.31\n",
            "4    0.147209  3.229300  1.31\n",
            "..        ...       ...   ...\n",
            "226  0.056895  2.973859  1.42\n",
            "227  0.054118  2.979688  1.42\n",
            "228  0.055064  2.975024  1.42\n",
            "229  0.055808  2.979694  1.42\n",
            "230  0.054665  2.971524  1.42\n",
            "\n",
            "[231 rows x 3 columns]\n",
            "          std      mean     Y\n",
            "0    0.158012  3.175647  1.31\n",
            "1    0.143858  3.172516  1.31\n",
            "2    0.145312  3.170426  1.31\n",
            "3    0.143976  3.174082  1.31\n",
            "4    0.164553  3.178258  1.31\n",
            "..        ...       ...   ...\n",
            "226  0.045806  2.718267  1.44\n",
            "227  0.044999  2.714950  1.44\n",
            "228  0.066097  2.689914  1.44\n",
            "229  0.065139  2.692743  1.44\n",
            "230  0.069293  2.692743  1.44\n",
            "\n",
            "[231 rows x 3 columns]\n"
          ]
        }
      ]
    },
    {
      "cell_type": "code",
      "source": [
        "from sklearn.model_selection import train_test_split\n",
        "\n",
        "train, test= train_test_split(spectrum_test, test_size = 0.3, random_state=1, shuffle=True)\n",
        "\n",
        "X_train1 = spectrum_data[['mean','std']]\n",
        "y_train1= spectrum_data['Y']\n",
        "\n",
        "X_train2 = train[['mean','std']]\n",
        "y_train2= train['Y']\n",
        "\n",
        "X_train = pd.concat([X_train1, X_train2], axis=0)\n",
        "y_train = pd.concat([y_train1, y_train2], axis=0)\n",
        "\n",
        "X_test = test[['mean','std']]\n",
        "y_test = test['Y']\n",
        "\n",
        "print(X_train.shape)\n",
        "print(y_train.shape)\n",
        "print(X_test.shape)\n",
        "print(y_test.shape)"
      ],
      "metadata": {
        "colab": {
          "base_uri": "https://localhost:8080/"
        },
        "id": "8fc1nA6ghAf0",
        "outputId": "ea58bcc2-feff-4846-c7fe-3fb132f5e8b0"
      },
      "execution_count": 65,
      "outputs": [
        {
          "output_type": "stream",
          "name": "stdout",
          "text": [
            "(392, 2)\n",
            "(392,)\n",
            "(70, 2)\n",
            "(70,)\n"
          ]
        }
      ]
    },
    {
      "cell_type": "code",
      "source": [
        "from lightgbm import LGBMRegressor\n",
        "import time\n",
        "lgb = LGBMRegressor(max_depth=2, learning_rate=0.1, n_estimators=100, force_col_wise=True)\n",
        "lgb.fit(X_train, y_train)\n",
        "\n",
        "start_lgb = time.time()\n",
        "y_pred = lgb.predict(X_test)\n",
        "end_lgb = time.time()\n",
        "\n",
        "from sklearn.ensemble import RandomForestRegressor\n",
        "rfr = RandomForestRegressor(n_estimators = 20, random_state = 15)\n",
        "rfr.fit(X_train, y_train)\n",
        "\n",
        "start_rfr = time.time()\n",
        "y_pred_rfr = rfr.predict(X_test)\n",
        "end_rfr = time.time()\n",
        "\n",
        "print('lgb: ', end_lgb-start_lgb, 's')\n",
        "print('rfr: ', end_rfr-start_rfr, 's')"
      ],
      "metadata": {
        "colab": {
          "base_uri": "https://localhost:8080/"
        },
        "id": "N0pjWarQn7so",
        "outputId": "e6f026b3-c501-4261-f266-1420be0e0868"
      },
      "execution_count": 66,
      "outputs": [
        {
          "output_type": "stream",
          "name": "stdout",
          "text": [
            "[LightGBM] [Info] Total Bins 258\n",
            "[LightGBM] [Info] Number of data points in the train set: 392, number of used features: 2\n",
            "[LightGBM] [Info] Start training from score 1.397857\n",
            "[LightGBM] [Warning] No further splits with positive gain, best gain: -inf\n",
            "[LightGBM] [Warning] No further splits with positive gain, best gain: -inf\n",
            "[LightGBM] [Warning] No further splits with positive gain, best gain: -inf\n",
            "[LightGBM] [Warning] No further splits with positive gain, best gain: -inf\n",
            "[LightGBM] [Warning] No further splits with positive gain, best gain: -inf\n",
            "[LightGBM] [Warning] No further splits with positive gain, best gain: -inf\n",
            "[LightGBM] [Warning] No further splits with positive gain, best gain: -inf\n",
            "[LightGBM] [Warning] No further splits with positive gain, best gain: -inf\n",
            "[LightGBM] [Warning] No further splits with positive gain, best gain: -inf\n",
            "[LightGBM] [Warning] No further splits with positive gain, best gain: -inf\n",
            "[LightGBM] [Warning] No further splits with positive gain, best gain: -inf\n",
            "[LightGBM] [Warning] No further splits with positive gain, best gain: -inf\n",
            "[LightGBM] [Warning] No further splits with positive gain, best gain: -inf\n",
            "[LightGBM] [Warning] No further splits with positive gain, best gain: -inf\n",
            "[LightGBM] [Warning] No further splits with positive gain, best gain: -inf\n",
            "[LightGBM] [Warning] No further splits with positive gain, best gain: -inf\n",
            "[LightGBM] [Warning] No further splits with positive gain, best gain: -inf\n",
            "[LightGBM] [Warning] No further splits with positive gain, best gain: -inf\n",
            "[LightGBM] [Warning] No further splits with positive gain, best gain: -inf\n",
            "lgb:  0.0018413066864013672 s\n",
            "rfr:  0.0027506351470947266 s\n"
          ]
        }
      ]
    },
    {
      "cell_type": "code",
      "source": [
        "from sklearn.metrics import mean_squared_error\n",
        "from sklearn.metrics import r2_score\n",
        "import matplotlib.pyplot as plt\n",
        "import numpy as np\n",
        "\n",
        "MSE = mean_squared_error(y_test, y_pred)\n",
        "r2 = r2_score(y_pred, y_test)\n",
        "RMSE = np.sqrt(MSE)\n",
        "print('lgb MSE:', MSE)\n",
        "print('lgb RMSE:', RMSE)\n",
        "print('lgb R2:', r2)\n",
        "\n",
        "MSE = mean_squared_error(y_test, y_pred_rfr)\n",
        "r2 = r2_score(y_pred_rfr, y_test)\n",
        "RMSE = np.sqrt(MSE)\n",
        "print('rfr MSE:', MSE)\n",
        "print('rfr RMSE:', RMSE)\n",
        "print('rfr R2:', r2)\n",
        "\n"
      ],
      "metadata": {
        "colab": {
          "base_uri": "https://localhost:8080/"
        },
        "id": "GEPnt2jdt92m",
        "outputId": "5e672223-38f4-415a-d856-6fe8b4e99544"
      },
      "execution_count": 67,
      "outputs": [
        {
          "output_type": "stream",
          "name": "stdout",
          "text": [
            "lgb MSE: 0.00044955673365879695\n",
            "lgb RMSE: 0.021202752973583334\n",
            "lgb R2: 0.8167177919576616\n",
            "rfr MSE: 0.00032508214285714287\n",
            "rfr RMSE: 0.01803003446633264\n",
            "rfr R2: 0.8864059235413364\n"
          ]
        }
      ]
    }
  ]
}