{
  "nbformat": 4,
  "nbformat_minor": 0,
  "metadata": {
    "colab": {
      "provenance": [],
      "mount_file_id": "1eI5owYIWsP9wVXyr7oqxGFYEi1hgR-7U",
      "authorship_tag": "ABX9TyPj1jdarAI3ep3fsTf9PbDj",
      "include_colab_link": true
    },
    "kernelspec": {
      "name": "python3",
      "display_name": "Python 3"
    },
    "language_info": {
      "name": "python"
    }
  },
  "cells": [
    {
      "cell_type": "markdown",
      "metadata": {
        "id": "view-in-github",
        "colab_type": "text"
      },
      "source": [
        "<a href=\"https://colab.research.google.com/github/kyungmin0101/medical_ai/blob/main/240220/classification_youjin.ipynb\" target=\"_parent\"><img src=\"https://colab.research.google.com/assets/colab-badge.svg\" alt=\"Open In Colab\"/></a>"
      ]
    },
    {
      "cell_type": "code",
      "execution_count": 1,
      "metadata": {
        "id": "QqjSCRNzWYkV",
        "colab": {
          "base_uri": "https://localhost:8080/"
        },
        "outputId": "224e0d12-a809-4cb9-ffea-b18658e41fb7"
      },
      "outputs": [
        {
          "output_type": "stream",
          "name": "stdout",
          "text": [
            "Drive already mounted at /content/drive; to attempt to forcibly remount, call drive.mount(\"/content/drive\", force_remount=True).\n"
          ]
        }
      ],
      "source": [
        "from google.colab import drive\n",
        "drive.mount('/content/drive')"
      ]
    },
    {
      "cell_type": "markdown",
      "source": [
        "Signal Smoothing - Gaussian\n"
      ],
      "metadata": {
        "id": "T9DkVG_is5e-"
      }
    },
    {
      "cell_type": "code",
      "source": [
        "import pandas as pd\n",
        "import csv\n",
        "from scipy.ndimage import gaussian_filter\n",
        "import os\n",
        "\n",
        "base_directory1 = '/content/drive/MyDrive/Refractive_Index_Measurements_New/1stSeries_07.05.21'\n",
        "\n",
        "all_csv_X1 = []\n",
        "all_csv_Y1 = []\n",
        "\n",
        "for root, dirs, files in os.walk(base_directory1):\n",
        "    for file in files:\n",
        "        if file.endswith('.CSV') and file != 'REF.CSV':\n",
        "            file_path = os.path.join(root, file)\n",
        "\n",
        "            with open(file_path, 'rt') as f:\n",
        "                reader = csv.reader(f)\n",
        "                csv_content = [raw for raw in reader]\n",
        "            f.close()\n",
        "            df = pd.DataFrame(csv_content)[24:].reset_index(drop=True)\n",
        "            df = df.astype(float)\n",
        "            df.columns = ['X', 'Y']\n",
        "            Y = float(os.path.basename(root))\n",
        "            all_csv_X1.append(df)\n",
        "            all_csv_Y1.append(Y)\n",
        "\n",
        "base_directory2 = '/content/drive/MyDrive/Refractive_Index_Measurements_New/2ndSeries_21.05.21'\n",
        "\n",
        "all_csv_X2 = []\n",
        "all_csv_Y2 = []\n",
        "\n",
        "for root, dirs, files in os.walk(base_directory2):\n",
        "    for file in files:\n",
        "        if file.endswith('.CSV') and file != 'REF.CSV':\n",
        "            file_path = os.path.join(root, file)\n",
        "\n",
        "            with open(file_path, 'rt') as f:\n",
        "                reader = csv.reader(f)\n",
        "                csv_content = [raw for raw in reader]\n",
        "            f.close()\n",
        "            df = pd.DataFrame(csv_content)[24:].reset_index(drop=True)\n",
        "            df = df.astype(float)\n",
        "            df.columns = ['X', 'Y']\n",
        "            Y = float(os.path.basename(root))\n",
        "            all_csv_X2.append(df)\n",
        "            all_csv_Y2.append(Y)"
      ],
      "metadata": {
        "id": "DZXYF-OvbQO0"
      },
      "execution_count": 57,
      "outputs": []
    },
    {
      "cell_type": "markdown",
      "source": [
        "# **classification - 5 label**"
      ],
      "metadata": {
        "id": "H4tyBEvxyO4T"
      }
    },
    {
      "cell_type": "code",
      "source": [
        "Y = pd.DataFrame(all_csv_Y1, columns=['Y'])\n",
        "df_Y = pd.DataFrame(all_csv_Y1, columns=['Y'])\n",
        "len(Y)\n",
        "\n",
        "for i in range(len(df_Y['Y'])):\n",
        "    if df_Y['Y'][i] < 1.30:\n",
        "        df_Y['Y'][i] = 'Normal_tissue'\n",
        "    elif df_Y['Y'][i] >= 1.30 and df_Y['Y'][i] <=1.32:\n",
        "      df_Y['Y'][i] = 'CIN_1'\n",
        "    elif df_Y['Y'][i] >= 1.33 and df_Y['Y'][i] <1.38:\n",
        "      df_Y['Y'][i] = 'CIN_2'\n",
        "    elif df_Y['Y'][i] >= 1.38 and df_Y['Y'][i] <=1.39:\n",
        "      df_Y['Y'][i] = 'CIN_3'\n",
        "    else:\n",
        "      df_Y['Y'][i] = 'Cervical_Cancer'\n",
        "\n",
        "print(Y)\n",
        "print(df_Y)"
      ],
      "metadata": {
        "colab": {
          "base_uri": "https://localhost:8080/"
        },
        "id": "cc42iO5n7VW8",
        "outputId": "a5a91b79-36ec-4c86-8962-1a810388baef"
      },
      "execution_count": 58,
      "outputs": [
        {
          "output_type": "stream",
          "name": "stdout",
          "text": [
            "        Y\n",
            "0    1.31\n",
            "1    1.31\n",
            "2    1.31\n",
            "3    1.31\n",
            "4    1.31\n",
            "..    ...\n",
            "226  1.42\n",
            "227  1.42\n",
            "228  1.42\n",
            "229  1.42\n",
            "230  1.42\n",
            "\n",
            "[231 rows x 1 columns]\n",
            "                   Y\n",
            "0              CIN_1\n",
            "1              CIN_1\n",
            "2              CIN_1\n",
            "3              CIN_1\n",
            "4              CIN_1\n",
            "..               ...\n",
            "226  Cervical_Cancer\n",
            "227  Cervical_Cancer\n",
            "228  Cervical_Cancer\n",
            "229  Cervical_Cancer\n",
            "230  Cervical_Cancer\n",
            "\n",
            "[231 rows x 1 columns]\n"
          ]
        }
      ]
    },
    {
      "cell_type": "markdown",
      "source": [
        "# **features Calculation**"
      ],
      "metadata": {
        "id": "gNZX95W1yRKG"
      }
    },
    {
      "cell_type": "code",
      "source": [
        "import numpy as np\n",
        "from scipy.ndimage import gaussian_filter\n",
        "from scipy.signal import find_peaks\n",
        "\n",
        "analysis_values = []\n",
        "for df, label in zip(all_csv_X1, all_csv_Y1):\n",
        "    smoothed_signal = gaussian_filter(df['Y'], sigma=40)\n",
        "    peaks, _ = find_peaks(smoothed_signal)\n",
        "\n",
        "    peak_values = df['Y'][peaks].reset_index(drop=True)\n",
        "    peak_times = df['X'][peaks].reset_index(drop=True)\n",
        "\n",
        "    time_diff = np.diff(peak_times)\n",
        "    std_signal_peak = np.std(time_diff)\n",
        "    mean_signal_peak = np.mean(time_diff)\n",
        "\n",
        "    analysis_values.append([std_signal_peak, mean_signal_peak])\n",
        "\n",
        "data = pd.DataFrame(analysis_values, columns=['std', 'mean'])\n",
        "\n",
        "spectrum_data = pd.concat([data, df_Y], axis=1)\n",
        "print(spectrum_data)"
      ],
      "metadata": {
        "colab": {
          "base_uri": "https://localhost:8080/"
        },
        "id": "g5Kku_vxpUF9",
        "outputId": "11020941-f26e-4597-e14c-1ea719e28f64"
      },
      "execution_count": 107,
      "outputs": [
        {
          "output_type": "stream",
          "name": "stdout",
          "text": [
            "          std      mean                Y\n",
            "0    0.149360  3.232519            CIN_1\n",
            "1    0.150904  3.229835            CIN_1\n",
            "2    0.143360  3.230373            CIN_1\n",
            "3    0.146847  3.229300            CIN_1\n",
            "4    0.147209  3.229300            CIN_1\n",
            "..        ...       ...              ...\n",
            "226  0.056895  2.973859  Cervical_Cancer\n",
            "227  0.054118  2.979688  Cervical_Cancer\n",
            "228  0.055064  2.975024  Cervical_Cancer\n",
            "229  0.055808  2.979694  Cervical_Cancer\n",
            "230  0.054665  2.971524  Cervical_Cancer\n",
            "\n",
            "[231 rows x 3 columns]\n"
          ]
        }
      ]
    },
    {
      "cell_type": "markdown",
      "source": [
        "# **Dataset**"
      ],
      "metadata": {
        "id": "2nKK913HycoP"
      }
    },
    {
      "cell_type": "code",
      "source": [
        "test_Y = pd.DataFrame(all_csv_Y2, columns=['Y'])\n",
        "df_Y_test = pd.DataFrame(all_csv_Y2, columns=['Y'])\n",
        "\n",
        "for i in range(len(df_Y_test['Y'])):\n",
        "    if df_Y_test['Y'][i] < 1.30:\n",
        "        df_Y_test['Y'][i] = 'Normal_tissue'\n",
        "    elif df_Y_test['Y'][i] >= 1.30 and df_Y_test['Y'][i] <=1.32:\n",
        "      df_Y_test['Y'][i] = 'CIN_1'\n",
        "    elif df_Y_test['Y'][i] >= 1.33 and df_Y_test['Y'][i] <1.38:\n",
        "      df_Y_test['Y'][i] = 'CIN_2'\n",
        "    elif df_Y_test['Y'][i] >= 1.38 and df_Y_test['Y'][i] <=1.39:\n",
        "      df_Y_test['Y'][i] = 'CIN_3'\n",
        "    else:\n",
        "      df_Y_test['Y'][i] = 'Cervical_Cancer'\n",
        "\n",
        "print(test_Y)\n",
        "print(df_Y_test)"
      ],
      "metadata": {
        "colab": {
          "base_uri": "https://localhost:8080/"
        },
        "id": "7bOQn75ZYi7u",
        "outputId": "56a6bee6-2bdf-4c6e-879d-78c01a9a63ca"
      },
      "execution_count": 108,
      "outputs": [
        {
          "output_type": "stream",
          "name": "stdout",
          "text": [
            "        Y\n",
            "0    1.31\n",
            "1    1.31\n",
            "2    1.31\n",
            "3    1.31\n",
            "4    1.31\n",
            "..    ...\n",
            "226  1.44\n",
            "227  1.44\n",
            "228  1.44\n",
            "229  1.44\n",
            "230  1.44\n",
            "\n",
            "[231 rows x 1 columns]\n",
            "                   Y\n",
            "0              CIN_1\n",
            "1              CIN_1\n",
            "2              CIN_1\n",
            "3              CIN_1\n",
            "4              CIN_1\n",
            "..               ...\n",
            "226  Cervical_Cancer\n",
            "227  Cervical_Cancer\n",
            "228  Cervical_Cancer\n",
            "229  Cervical_Cancer\n",
            "230  Cervical_Cancer\n",
            "\n",
            "[231 rows x 1 columns]\n"
          ]
        }
      ]
    },
    {
      "cell_type": "code",
      "source": [
        "import numpy as np\n",
        "from scipy.ndimage import gaussian_filter\n",
        "from scipy.signal import find_peaks\n",
        "\n",
        "analysis_values2 = []\n",
        "for df, label in zip(all_csv_X2, all_csv_Y2):\n",
        "    smoothed_signal = gaussian_filter(df['Y'], sigma=40)\n",
        "    peaks, _ = find_peaks(smoothed_signal)\n",
        "\n",
        "    peak_values = df['Y'][peaks].reset_index(drop=True)\n",
        "    peak_times = df['X'][peaks].reset_index(drop=True)\n",
        "\n",
        "    time_diff = np.diff(peak_times)\n",
        "    std_signal_peak = np.std(time_diff)\n",
        "    mean_signal_peak = np.mean(time_diff)\n",
        "\n",
        "    analysis_values2.append([std_signal_peak, mean_signal_peak])\n",
        "\n",
        "data = pd.DataFrame(analysis_values2, columns=['std','mean'])\n",
        "\n",
        "spectrum_test = pd.concat([data, df_Y_test], axis=1)\n",
        "print(spectrum_test)"
      ],
      "metadata": {
        "colab": {
          "base_uri": "https://localhost:8080/"
        },
        "id": "CR7wfbBEYlKz",
        "outputId": "ba5785fb-b6af-4a8d-fec9-29bc21eaa6ca"
      },
      "execution_count": 109,
      "outputs": [
        {
          "output_type": "stream",
          "name": "stdout",
          "text": [
            "          std      mean                Y\n",
            "0    0.158012  3.175647            CIN_1\n",
            "1    0.143858  3.172516            CIN_1\n",
            "2    0.145312  3.170426            CIN_1\n",
            "3    0.143976  3.174082            CIN_1\n",
            "4    0.164553  3.178258            CIN_1\n",
            "..        ...       ...              ...\n",
            "226  0.045806  2.718267  Cervical_Cancer\n",
            "227  0.044999  2.714950  Cervical_Cancer\n",
            "228  0.066097  2.689914  Cervical_Cancer\n",
            "229  0.065139  2.692743  Cervical_Cancer\n",
            "230  0.069293  2.692743  Cervical_Cancer\n",
            "\n",
            "[231 rows x 3 columns]\n"
          ]
        }
      ]
    },
    {
      "cell_type": "code",
      "source": [
        "from sklearn.model_selection import train_test_split\n",
        "\n",
        "train, test= train_test_split(spectrum_test, test_size = 0.3, random_state=1, shuffle=True)\n",
        "\n",
        "X_train1 = spectrum_data[['mean','std']]\n",
        "y_train1= spectrum_data['Y']\n",
        "\n",
        "X_train2 = train[['mean','std']]\n",
        "y_train2= train['Y']\n",
        "\n",
        "X_train = pd.concat([X_train1, X_train2], axis=0)\n",
        "y_train = pd.concat([y_train1, y_train2], axis=0)\n",
        "\n",
        "X_test = test[['mean','std']]\n",
        "y_test = test['Y']\n",
        "\n",
        "print(X_train.shape)\n",
        "print(y_train.shape)\n",
        "print(X_test.shape)\n",
        "print(y_test.shape)"
      ],
      "metadata": {
        "colab": {
          "base_uri": "https://localhost:8080/"
        },
        "id": "5VDghV4m7BsT",
        "outputId": "2405100d-629b-417c-b34a-82a9caaec2bb"
      },
      "execution_count": 157,
      "outputs": [
        {
          "output_type": "stream",
          "name": "stdout",
          "text": [
            "(392, 2)\n",
            "(392,)\n",
            "(70, 2)\n",
            "(70,)\n"
          ]
        }
      ]
    },
    {
      "cell_type": "code",
      "source": [
        "from sklearn.neighbors import KNeighborsClassifier\n",
        "from sklearn.ensemble import RandomForestClassifier\n",
        "from sklearn.svm import SVC\n",
        "from sklearn.metrics import confusion_matrix, classification_report\n",
        "from sklearn.metrics import accuracy_score\n",
        "import seaborn as sns\n",
        "import matplotlib.pyplot as plt\n",
        "import time\n",
        "\n",
        "knn = KNeighborsClassifier(n_neighbors=5, leaf_size = 20)\n",
        "rf = RandomForestClassifier(n_estimators=20)\n",
        "svm= SVC(kernel='rbf', C=0.6)\n",
        "\n",
        "start_knn = time.time()\n",
        "knn.fit(X_train, y_train)\n",
        "end_knn = time.time()\n",
        "\n",
        "start_rf = time.time()\n",
        "rf.fit(X_train, y_train)\n",
        "end_rf = time.time()\n",
        "\n",
        "start_svm = time.time()\n",
        "svm.fit(X_train, y_train)\n",
        "end_svm = time.time()\n",
        "\n",
        "\n",
        "y_knn = knn.predict(X_test)\n",
        "y_rf = rf.predict(X_test)\n",
        "y_svm = svm.predict(X_test)\n",
        "\n",
        "print('knn: ', end_knn-start_knn)\n",
        "print('svm: ', end_svm-start_svm)\n",
        "print('rf: ', end_rf-start_rf)"
      ],
      "metadata": {
        "colab": {
          "base_uri": "https://localhost:8080/"
        },
        "id": "CMKFbvj-vdm1",
        "outputId": "f208b37e-d7f0-4f3f-ea60-136d05f43c05"
      },
      "execution_count": 158,
      "outputs": [
        {
          "output_type": "stream",
          "name": "stdout",
          "text": [
            "knn:  0.010088682174682617\n",
            "svm:  0.013099193572998047\n",
            "rf:  0.06270480155944824\n"
          ]
        }
      ]
    },
    {
      "cell_type": "markdown",
      "source": [
        "**KNN**"
      ],
      "metadata": {
        "id": "2B6p2HfXvjwv"
      }
    },
    {
      "cell_type": "code",
      "source": [
        "from sklearn.metrics import accuracy_score\n",
        "accuracy_knn = accuracy_score(y_test, y_knn)\n",
        "print(f\"knn_Accuracy: {accuracy_knn}\")\n",
        "\n",
        "cm_knn = confusion_matrix(y_test, y_knn)\n",
        "sns.heatmap(cm_knn, annot=True, fmt=\"d\", cmap=\"Blues\", cbar=False)\n",
        "\n",
        "plt.xlabel(\"Predicted Label\")\n",
        "plt.ylabel(\"True Label\")\n",
        "plt.title(\"Confusion Matrix\")\n",
        "\n",
        "report = classification_report(y_test, y_knn)\n",
        "\n",
        "print(report)\n",
        "\n",
        "# Display the plot\n",
        "plt.show()"
      ],
      "metadata": {
        "colab": {
          "base_uri": "https://localhost:8080/",
          "height": 676
        },
        "id": "a_wdDMEJ920X",
        "outputId": "22814998-9c36-47dd-e5e8-6915c19d077f"
      },
      "execution_count": 159,
      "outputs": [
        {
          "output_type": "stream",
          "name": "stdout",
          "text": [
            "knn_Accuracy: 0.9571428571428572\n",
            "                 precision    recall  f1-score   support\n",
            "\n",
            "          CIN_1       1.00      1.00      1.00         5\n",
            "          CIN_2       1.00      0.83      0.91        12\n",
            "          CIN_3       0.78      0.88      0.82         8\n",
            "Cervical_Cancer       0.98      1.00      0.99        45\n",
            "\n",
            "       accuracy                           0.96        70\n",
            "      macro avg       0.94      0.93      0.93        70\n",
            "   weighted avg       0.96      0.96      0.96        70\n",
            "\n"
          ]
        },
        {
          "output_type": "display_data",
          "data": {
            "text/plain": [
              "<Figure size 640x480 with 1 Axes>"
            ],
            "image/png": "[encoded data removed]"
          },
          "metadata": {}
        }
      ]
    },
    {
      "cell_type": "markdown",
      "source": [
        "**Random Forest**"
      ],
      "metadata": {
        "id": "_FD1HkMPvos6"
      }
    },
    {
      "cell_type": "code",
      "source": [
        "from sklearn.metrics import accuracy_score\n",
        "accuracy_rf = accuracy_score(y_test, y_rf)\n",
        "print(f\"rf_Accuracy: {accuracy_rf}\")\n",
        "\n",
        "cm_rf = confusion_matrix(y_test, y_rf)\n",
        "sns.heatmap(cm_rf, annot=True, fmt=\"d\", cmap=\"Blues\", cbar=False)\n",
        "\n",
        "plt.xlabel(\"Predicted Label\")\n",
        "plt.ylabel(\"True Label\")\n",
        "plt.title(\"Confusion Matrix\")\n",
        "\n",
        "report = classification_report(y_test, y_rf)\n",
        "\n",
        "print(report)\n",
        "\n",
        "# Display the plot\n",
        "plt.show()"
      ],
      "metadata": {
        "colab": {
          "base_uri": "https://localhost:8080/",
          "height": 676
        },
        "id": "L1nO4-rJvoAT",
        "outputId": "d623a058-7f49-4496-b99a-f586c398cd4e"
      },
      "execution_count": 160,
      "outputs": [
        {
          "output_type": "stream",
          "name": "stdout",
          "text": [
            "rf_Accuracy: 0.9571428571428572\n",
            "                 precision    recall  f1-score   support\n",
            "\n",
            "          CIN_1       1.00      1.00      1.00         5\n",
            "          CIN_2       1.00      0.92      0.96        12\n",
            "          CIN_3       1.00      0.75      0.86         8\n",
            "Cervical_Cancer       0.94      1.00      0.97        45\n",
            "\n",
            "       accuracy                           0.96        70\n",
            "      macro avg       0.98      0.92      0.95        70\n",
            "   weighted avg       0.96      0.96      0.96        70\n",
            "\n"
          ]
        },
        {
          "output_type": "display_data",
          "data": {
            "text/plain": [
              "<Figure size 640x480 with 1 Axes>"
            ],
            "image/png": "[encoded data removed]"
          },
          "metadata": {}
        }
      ]
    },
    {
      "cell_type": "markdown",
      "source": [
        "**SVM**"
      ],
      "metadata": {
        "id": "LVG7r1uoxVhl"
      }
    },
    {
      "cell_type": "code",
      "source": [
        "from sklearn.metrics import accuracy_score\n",
        "accuracy_svm = accuracy_score(y_test, y_svm)\n",
        "print(f\"svm_Accuracy: {accuracy_svm}\")\n",
        "\n",
        "cm_svm = confusion_matrix(y_test, y_svm)\n",
        "sns.heatmap(cm_svm, annot=True, fmt=\"d\", cmap=\"Blues\", cbar=False)\n",
        "\n",
        "plt.xlabel(\"Predicted Label\")\n",
        "plt.ylabel(\"True Label\")\n",
        "plt.title(\"Confusion Matrix\")\n",
        "\n",
        "report = classification_report(y_test, y_svm)\n",
        "\n",
        "print(report)\n",
        "\n",
        "# Display the plot\n",
        "plt.show()"
      ],
      "metadata": {
        "colab": {
          "base_uri": "https://localhost:8080/",
          "height": 798
        },
        "id": "zOMV69ElxX6d",
        "outputId": "79a6ba0e-4fe0-49de-8d80-1c4868a8e813"
      },
      "execution_count": 161,
      "outputs": [
        {
          "output_type": "stream",
          "name": "stdout",
          "text": [
            "svm_Accuracy: 0.7\n",
            "                 precision    recall  f1-score   support\n",
            "\n",
            "          CIN_1       0.00      0.00      0.00         5\n",
            "          CIN_2       0.44      0.33      0.38        12\n",
            "          CIN_3       0.00      0.00      0.00         8\n",
            "Cervical_Cancer       0.74      1.00      0.85        45\n",
            "\n",
            "       accuracy                           0.70        70\n",
            "      macro avg       0.30      0.33      0.31        70\n",
            "   weighted avg       0.55      0.70      0.61        70\n",
            "\n"
          ]
        },
        {
          "output_type": "stream",
          "name": "stderr",
          "text": [
            "/usr/local/lib/python3.10/dist-packages/sklearn/metrics/_classification.py:1344: UndefinedMetricWarning: Precision and F-score are ill-defined and being set to 0.0 in labels with no predicted samples. Use `zero_division` parameter to control this behavior.\n",
            "  _warn_prf(average, modifier, msg_start, len(result))\n",
            "/usr/local/lib/python3.10/dist-packages/sklearn/metrics/_classification.py:1344: UndefinedMetricWarning: Precision and F-score are ill-defined and being set to 0.0 in labels with no predicted samples. Use `zero_division` parameter to control this behavior.\n",
            "  _warn_prf(average, modifier, msg_start, len(result))\n",
            "/usr/local/lib/python3.10/dist-packages/sklearn/metrics/_classification.py:1344: UndefinedMetricWarning: Precision and F-score are ill-defined and being set to 0.0 in labels with no predicted samples. Use `zero_division` parameter to control this behavior.\n",
            "  _warn_prf(average, modifier, msg_start, len(result))\n"
          ]
        },
        {
          "output_type": "display_data",
          "data": {
            "text/plain": [
              "<Figure size 640x480 with 1 Axes>"
            ],
            "image/png": "[encoded data removed]"
          },
          "metadata": {}
        }
      ]
    },
    {
      "cell_type": "code",
      "source": [
        "from sklearn.ensemble import VotingClassifier\n",
        "from sklearn.metrics import accuracy_score\n",
        "ensemble_model = VotingClassifier(estimators=[('knn', knn), ('rf', rf), ('svc', svm)], voting= 'hard')\n",
        "\n",
        "ensemble_model.fit(X_train, y_train)\n",
        "\n",
        "# Make predictions using the ensemble model\n",
        "y_pred = ensemble_model.predict(X_test)\n",
        "\n",
        "accuracy_ensemble = accuracy_score(y_test, y_pred)\n",
        "print(f\"svm_Accuracy: {accuracy_ensemble}\")\n",
        "\n",
        "cm_ensemble = confusion_matrix(y_test, y_pred)\n",
        "sns.heatmap(cm_ensemble, annot=True, fmt=\"d\", cmap=\"Blues\", cbar=False)\n",
        "\n",
        "plt.xlabel(\"Predicted Label\")\n",
        "plt.ylabel(\"True Label\")\n",
        "plt.title(\"Confusion Matrix\")\n",
        "\n",
        "report = classification_report(y_test, y_pred)\n",
        "\n",
        "print(report)\n",
        "\n",
        "# Display the plot\n",
        "plt.show()"
      ],
      "metadata": {
        "colab": {
          "base_uri": "https://localhost:8080/",
          "height": 676
        },
        "id": "VJN5Jx9SdzAT",
        "outputId": "591f6792-de90-48e5-a1c2-9634da4a8cad"
      },
      "execution_count": 162,
      "outputs": [
        {
          "output_type": "stream",
          "name": "stdout",
          "text": [
            "svm_Accuracy: 0.9\n",
            "                 precision    recall  f1-score   support\n",
            "\n",
            "          CIN_1       1.00      1.00      1.00         5\n",
            "          CIN_2       1.00      0.83      0.91        12\n",
            "          CIN_3       1.00      0.38      0.55         8\n",
            "Cervical_Cancer       0.87      1.00      0.93        45\n",
            "\n",
            "       accuracy                           0.90        70\n",
            "      macro avg       0.97      0.80      0.85        70\n",
            "   weighted avg       0.91      0.90      0.89        70\n",
            "\n"
          ]
        },
        {
          "output_type": "display_data",
          "data": {
            "text/plain": [
              "<Figure size 640x480 with 1 Axes>"
            ],
            "image/png": "[encoded data removed]"
          },
          "metadata": {}
        }
      ]
    }
  ]
}