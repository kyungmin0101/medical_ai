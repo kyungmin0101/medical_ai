{
  "nbformat": 4,
  "nbformat_minor": 0,
  "metadata": {
    "colab": {
      "provenance": [],
      "authorship_tag": "ABX9TyMf+TT/qqQKf7qT6nRzE4ym",
      "include_colab_link": true
    },
    "kernelspec": {
      "name": "python3",
      "display_name": "Python 3"
    },
    "language_info": {
      "name": "python"
    }
  },
  "cells": [
    {
      "cell_type": "markdown",
      "metadata": {
        "id": "view-in-github",
        "colab_type": "text"
      },
      "source": [
        "<a href=\"https://colab.research.google.com/github/kyungmin0101/medical_ai/blob/main/240221/Medical_Ai_day_6_Hyunsang.ipynb\" target=\"_parent\"><img src=\"https://colab.research.google.com/assets/colab-badge.svg\" alt=\"Open In Colab\"/></a>"
      ]
    },
    {
      "cell_type": "code",
      "execution_count": 1,
      "metadata": {
        "colab": {
          "base_uri": "https://localhost:8080/"
        },
        "id": "UOt-qDZhh1vC",
        "outputId": "31e3b9fd-2356-485f-ef53-4d8a7b9bb35f"
      },
      "outputs": [
        {
          "output_type": "stream",
          "name": "stdout",
          "text": [
            "Mounted at /content/drive\n"
          ]
        }
      ],
      "source": [
        "from google.colab import drive\n",
        "drive.mount('/content/drive')"
      ]
    },
    {
      "cell_type": "code",
      "source": [
        "import glob\n",
        "import csv\n",
        "import pandas as pd\n",
        "\n",
        "#All of 1stSeries data\n",
        "path1 = \"/content/drive/MyDrive/Refractive Index Measurements New/1stSeries_07.05.21/*/{}*\".format('W') #training set\n",
        "df_list_1st = []\n",
        "ri_list_1st = []\n",
        "for file in glob.glob(path1, recursive = True) :\n",
        "  f = open(file,'rt')\n",
        "  reader = csv.reader(f)\n",
        "  csv_context = []\n",
        "  for raw in reader :\n",
        "    csv_context.append(raw)\n",
        "  f.close()\n",
        "\n",
        "  df_list_1st.append(pd.DataFrame(csv_context)[24:])\n",
        "  ri_list_1st.append(file.split('/')[-2])\n",
        "\n",
        "#All of 2ndSeries data\n",
        "path2 = \"/content/drive/MyDrive/Refractive Index Measurements New/2ndSeries_21.05.21/*/{}*\".format('W')#test set\n",
        "df_list_2nd = []\n",
        "ri_list_2nd = []\n",
        "for file in glob.glob(path2, recursive = True) :\n",
        "  f = open(file,'rt')\n",
        "  reader = csv.reader(f)\n",
        "  csv_context = []\n",
        "  for raw in reader :\n",
        "    csv_context.append(raw)\n",
        "  f.close()\n",
        "\n",
        "  df_list_2nd.append(pd.DataFrame(csv_context)[24:])\n",
        "  ri_list_2nd.append(file.split('/')[-2])"
      ],
      "metadata": {
        "id": "4I7R10bHiqDV"
      },
      "execution_count": 3,
      "outputs": []
    },
    {
      "cell_type": "code",
      "source": [
        "ri_list_1st_CIN=[]\n",
        "for i in range(len(ri_list_1st)) :\n",
        "  if 1.3 <= float(ri_list_1st[i]) <= 1.32 :\n",
        "    ri_list_1st_CIN.append(\"CIN1\")\n",
        "  if 1.33 <= float(ri_list_1st[i]) <= 1.37 :\n",
        "    ri_list_1st_CIN.append(\"CIN2\")\n",
        "  if 1.38 <= float(ri_list_1st[i]) <= 1.39 :\n",
        "    ri_list_1st_CIN.append(\"CIN3\")\n",
        "  if float(ri_list_1st[i]) >= 1.4 :\n",
        "    ri_list_1st_CIN.append(\"Cervical Cancer\")\n",
        "\n",
        "ri_list_2nd_CIN=[]\n",
        "for i in range(len(ri_list_2nd)) :\n",
        "  if 1.3 <= float(ri_list_2nd[i]) <= 1.32 :\n",
        "    ri_list_2nd_CIN.append(\"CIN1\")\n",
        "  if 1.33 <= float(ri_list_2nd[i]) <= 1.37 :\n",
        "    ri_list_2nd_CIN.append(\"CIN2\")\n",
        "  if 1.38 <= float(ri_list_2nd[i]) <= 1.39 :\n",
        "    ri_list_2nd_CIN.append(\"CIN3\")\n",
        "  if float(ri_list_2nd[i]) >= 1.4 :\n",
        "    ri_list_2nd_CIN.append(\"Cervical Cancer\")"
      ],
      "metadata": {
        "id": "Bg7npz03juSV"
      },
      "execution_count": 4,
      "outputs": []
    },
    {
      "cell_type": "code",
      "source": [
        "from sklearn.metrics import accuracy_score, classification_report\n",
        "from sklearn.model_selection import train_test_split\n",
        "from sklearn.tree import DecisionTreeClassifier\n",
        "from sklearn.neighbors import KNeighborsClassifier\n",
        "from sklearn import svm\n",
        "import numpy as np\n",
        "import time\n",
        "\n",
        "x_train_df_list_2nd, x_test_df_list_2nd, y_train_ri_list_2nd, y_test_ri_list_2nd_CIN = train_test_split(df_list_2nd, ri_list_2nd_CIN, test_size=0.1)\n",
        "\n",
        "nsamples, nx, ny = np.array(df_list_1st).shape\n",
        "x_train_df_list_1st = np.array(df_list_1st).reshape((nsamples,nx*ny))\n",
        "\n",
        "nsamples, nx, ny = np.array(x_test_df_list_2nd).shape\n",
        "x_test_df_list_2nd = np.array(x_test_df_list_2nd).reshape((nsamples,nx*ny))\n",
        "\n",
        "#Tree_model\n",
        "tree_clf = DecisionTreeClassifier(random_state=50)\n",
        "tree_clf.fit(x_train_df_list_1st, ri_list_1st_CIN)\n",
        "#KNN\n",
        "knn_clf = KNeighborsClassifier(n_neighbors = 5)\n",
        "knn_clf.fit(x_train_df_list_1st, ri_list_1st_CIN)\n",
        "#SVM\n",
        "svm_clf = svm.SVC(kernel='linear', C=1,probability=True)\n",
        "svm_clf.fit(x_train_df_list_1st, ri_list_1st_CIN)\n"
      ],
      "metadata": {
        "colab": {
          "base_uri": "https://localhost:8080/",
          "height": 74
        },
        "id": "OoGREu13jO4s",
        "outputId": "686728ba-81d2-470c-d50d-b746521f43cc"
      },
      "execution_count": 54,
      "outputs": [
        {
          "output_type": "execute_result",
          "data": {
            "text/plain": [
              "SVC(C=1, kernel='linear', probability=True)"
            ],
            "text/html": [
              "<style>#sk-container-id-21 {color: black;background-color: white;}#sk-container-id-21 pre{padding: 0;}#sk-container-id-21 div.sk-toggleable {background-color: white;}#sk-container-id-21 label.sk-toggleable__label {cursor: pointer;display: block;width: 100%;margin-bottom: 0;padding: 0.3em;box-sizing: border-box;text-align: center;}#sk-container-id-21 label.sk-toggleable__label-arrow:before {content: \"▸\";float: left;margin-right: 0.25em;color: #696969;}#sk-container-id-21 label.sk-toggleable__label-arrow:hover:before {color: black;}#sk-container-id-21 div.sk-estimator:hover label.sk-toggleable__label-arrow:before {color: black;}#sk-container-id-21 div.sk-toggleable__content {max-height: 0;max-width: 0;overflow: hidden;text-align: left;background-color: #f0f8ff;}#sk-container-id-21 div.sk-toggleable__content pre {margin: 0.2em;color: black;border-radius: 0.25em;background-color: #f0f8ff;}#sk-container-id-21 input.sk-toggleable__control:checked~div.sk-toggleable__content {max-height: 200px;max-width: 100%;overflow: auto;}#sk-container-id-21 input.sk-toggleable__control:checked~label.sk-toggleable__label-arrow:before {content: \"▾\";}#sk-container-id-21 div.sk-estimator input.sk-toggleable__control:checked~label.sk-toggleable__label {background-color: #d4ebff;}#sk-container-id-21 div.sk-label input.sk-toggleable__control:checked~label.sk-toggleable__label {background-color: #d4ebff;}#sk-container-id-21 input.sk-hidden--visually {border: 0;clip: rect(1px 1px 1px 1px);clip: rect(1px, 1px, 1px, 1px);height: 1px;margin: -1px;overflow: hidden;padding: 0;position: absolute;width: 1px;}#sk-container-id-21 div.sk-estimator {font-family: monospace;background-color: #f0f8ff;border: 1px dotted black;border-radius: 0.25em;box-sizing: border-box;margin-bottom: 0.5em;}#sk-container-id-21 div.sk-estimator:hover {background-color: #d4ebff;}#sk-container-id-21 div.sk-parallel-item::after {content: \"\";width: 100%;border-bottom: 1px solid gray;flex-grow: 1;}#sk-container-id-21 div.sk-label:hover label.sk-toggleable__label {background-color: #d4ebff;}#sk-container-id-21 div.sk-serial::before {content: \"\";position: absolute;border-left: 1px solid gray;box-sizing: border-box;top: 0;bottom: 0;left: 50%;z-index: 0;}#sk-container-id-21 div.sk-serial {display: flex;flex-direction: column;align-items: center;background-color: white;padding-right: 0.2em;padding-left: 0.2em;position: relative;}#sk-container-id-21 div.sk-item {position: relative;z-index: 1;}#sk-container-id-21 div.sk-parallel {display: flex;align-items: stretch;justify-content: center;background-color: white;position: relative;}#sk-container-id-21 div.sk-item::before, #sk-container-id-21 div.sk-parallel-item::before {content: \"\";position: absolute;border-left: 1px solid gray;box-sizing: border-box;top: 0;bottom: 0;left: 50%;z-index: -1;}#sk-container-id-21 div.sk-parallel-item {display: flex;flex-direction: column;z-index: 1;position: relative;background-color: white;}#sk-container-id-21 div.sk-parallel-item:first-child::after {align-self: flex-end;width: 50%;}#sk-container-id-21 div.sk-parallel-item:last-child::after {align-self: flex-start;width: 50%;}#sk-container-id-21 div.sk-parallel-item:only-child::after {width: 0;}#sk-container-id-21 div.sk-dashed-wrapped {border: 1px dashed gray;margin: 0 0.4em 0.5em 0.4em;box-sizing: border-box;padding-bottom: 0.4em;background-color: white;}#sk-container-id-21 div.sk-label label {font-family: monospace;font-weight: bold;display: inline-block;line-height: 1.2em;}#sk-container-id-21 div.sk-label-container {text-align: center;}#sk-container-id-21 div.sk-container {/* jupyter's `normalize.less` sets `[hidden] { display: none; }` but bootstrap.min.css set `[hidden] { display: none !important; }` so we also need the `!important` here to be able to override the default hidden behavior on the sphinx rendered scikit-learn.org. See: https://github.com/scikit-learn/scikit-learn/issues/21755 */display: inline-block !important;position: relative;}#sk-container-id-21 div.sk-text-repr-fallback {display: none;}</style><div id=\"sk-container-id-21\" class=\"sk-top-container\"><div class=\"sk-text-repr-fallback\"><pre>SVC(C=1, kernel=&#x27;linear&#x27;, probability=True)</pre><b>In a Jupyter environment, please rerun this cell to show the HTML representation or trust the notebook. <br />On GitHub, the HTML representation is unable to render, please try loading this page with nbviewer.org.</b></div><div class=\"sk-container\" hidden><div class=\"sk-item\"><div class=\"sk-estimator sk-toggleable\"><input class=\"sk-toggleable__control sk-hidden--visually\" id=\"sk-estimator-id-21\" type=\"checkbox\" checked><label for=\"sk-estimator-id-21\" class=\"sk-toggleable__label sk-toggleable__label-arrow\">SVC</label><div class=\"sk-toggleable__content\"><pre>SVC(C=1, kernel=&#x27;linear&#x27;, probability=True)</pre></div></div></div></div></div>"
            ]
          },
          "metadata": {},
          "execution_count": 54
        }
      ]
    },
    {
      "cell_type": "code",
      "source": [
        "tree_pred =tree_clf.predict(x_test_df_list_2nd)\n",
        "knn_pred = knn_clf.predict(x_test_df_list_2nd)\n",
        "svm_pred = svm_clf.predict(x_test_df_list_2nd)\n",
        "\n",
        "print('tree Acc : {}'.format(accuracy_score(y_test_ri_list_2nd_CIN,tree_pred)))\n",
        "print(classification_report(y_test_ri_list_2nd_CIN,tree_pred))\n",
        "print('knn Acc : {}'.format(accuracy_score(y_test_ri_list_2nd_CIN,knn_pred)))\n",
        "print(classification_report(y_test_ri_list_2nd_CIN,knn_pred))\n",
        "print('svm Acc : {}'.format(accuracy_score(y_test_ri_list_2nd_CIN,svm_pred)))\n",
        "print(classification_report(y_test_ri_list_2nd_CIN,svm_pred))"
      ],
      "metadata": {
        "colab": {
          "base_uri": "https://localhost:8080/"
        },
        "id": "vsd0g7YasY-S",
        "outputId": "50c6cd6c-8c77-4dfa-f726-e45315ed72d6"
      },
      "execution_count": 55,
      "outputs": [
        {
          "output_type": "stream",
          "name": "stdout",
          "text": [
            "tree Acc : 0.125\n",
            "                 precision    recall  f1-score   support\n",
            "\n",
            "           CIN1       0.00      0.00      0.00         4\n",
            "           CIN2       0.10      1.00      0.17         2\n",
            "           CIN3       0.00      0.00      0.00         3\n",
            "Cervical Cancer       1.00      0.07      0.12        15\n",
            "\n",
            "       accuracy                           0.12        24\n",
            "      macro avg       0.27      0.27      0.07        24\n",
            "   weighted avg       0.63      0.12      0.09        24\n",
            "\n",
            "knn Acc : 0.2916666666666667\n",
            "                 precision    recall  f1-score   support\n",
            "\n",
            "           CIN1       0.00      0.00      0.00         4\n",
            "           CIN2       0.11      1.00      0.20         2\n",
            "           CIN3       0.00      0.00      0.00         3\n",
            "Cervical Cancer       1.00      0.33      0.50        15\n",
            "\n",
            "       accuracy                           0.29        24\n",
            "      macro avg       0.28      0.33      0.17        24\n",
            "   weighted avg       0.63      0.29      0.33        24\n",
            "\n",
            "svm Acc : 0.625\n",
            "                 precision    recall  f1-score   support\n",
            "\n",
            "           CIN1       0.00      0.00      0.00         4\n",
            "           CIN2       0.00      0.00      0.00         2\n",
            "           CIN3       0.00      0.00      0.00         3\n",
            "Cervical Cancer       0.62      1.00      0.77        15\n",
            "\n",
            "       accuracy                           0.62        24\n",
            "      macro avg       0.16      0.25      0.19        24\n",
            "   weighted avg       0.39      0.62      0.48        24\n",
            "\n"
          ]
        },
        {
          "output_type": "stream",
          "name": "stderr",
          "text": [
            "/usr/local/lib/python3.10/dist-packages/sklearn/metrics/_classification.py:1344: UndefinedMetricWarning: Precision and F-score are ill-defined and being set to 0.0 in labels with no predicted samples. Use `zero_division` parameter to control this behavior.\n",
            "  _warn_prf(average, modifier, msg_start, len(result))\n",
            "/usr/local/lib/python3.10/dist-packages/sklearn/metrics/_classification.py:1344: UndefinedMetricWarning: Precision and F-score are ill-defined and being set to 0.0 in labels with no predicted samples. Use `zero_division` parameter to control this behavior.\n",
            "  _warn_prf(average, modifier, msg_start, len(result))\n",
            "/usr/local/lib/python3.10/dist-packages/sklearn/metrics/_classification.py:1344: UndefinedMetricWarning: Precision and F-score are ill-defined and being set to 0.0 in labels with no predicted samples. Use `zero_division` parameter to control this behavior.\n",
            "  _warn_prf(average, modifier, msg_start, len(result))\n",
            "/usr/local/lib/python3.10/dist-packages/sklearn/metrics/_classification.py:1344: UndefinedMetricWarning: Precision and F-score are ill-defined and being set to 0.0 in labels with no predicted samples. Use `zero_division` parameter to control this behavior.\n",
            "  _warn_prf(average, modifier, msg_start, len(result))\n",
            "/usr/local/lib/python3.10/dist-packages/sklearn/metrics/_classification.py:1344: UndefinedMetricWarning: Precision and F-score are ill-defined and being set to 0.0 in labels with no predicted samples. Use `zero_division` parameter to control this behavior.\n",
            "  _warn_prf(average, modifier, msg_start, len(result))\n",
            "/usr/local/lib/python3.10/dist-packages/sklearn/metrics/_classification.py:1344: UndefinedMetricWarning: Precision and F-score are ill-defined and being set to 0.0 in labels with no predicted samples. Use `zero_division` parameter to control this behavior.\n",
            "  _warn_prf(average, modifier, msg_start, len(result))\n",
            "/usr/local/lib/python3.10/dist-packages/sklearn/metrics/_classification.py:1344: UndefinedMetricWarning: Precision and F-score are ill-defined and being set to 0.0 in labels with no predicted samples. Use `zero_division` parameter to control this behavior.\n",
            "  _warn_prf(average, modifier, msg_start, len(result))\n",
            "/usr/local/lib/python3.10/dist-packages/sklearn/metrics/_classification.py:1344: UndefinedMetricWarning: Precision and F-score are ill-defined and being set to 0.0 in labels with no predicted samples. Use `zero_division` parameter to control this behavior.\n",
            "  _warn_prf(average, modifier, msg_start, len(result))\n",
            "/usr/local/lib/python3.10/dist-packages/sklearn/metrics/_classification.py:1344: UndefinedMetricWarning: Precision and F-score are ill-defined and being set to 0.0 in labels with no predicted samples. Use `zero_division` parameter to control this behavior.\n",
            "  _warn_prf(average, modifier, msg_start, len(result))\n"
          ]
        }
      ]
    },
    {
      "cell_type": "code",
      "source": [
        "##ensembel\n",
        "from sklearn.ensemble import VotingClassifier\n",
        "\n",
        "ensemble_model = VotingClassifier(estimators=[('tree', tree_clf), ('knn', knn_clf), ('svm', svm_clf)], voting='soft')\n",
        "ensemble_model.fit(x_train_df_list_1st, ri_list_1st_CIN)\n",
        "\n",
        "predictions = ensemble_model.predict(x_test_df_list_2nd)\n",
        "\n",
        "print('Voting Acc : {}'.format(accuracy_score(y_test_ri_list_2nd_CIN,predictions)))\n",
        "print(classification_report(y_test_ri_list_2nd_CIN,predictions))\n"
      ],
      "metadata": {
        "colab": {
          "base_uri": "https://localhost:8080/"
        },
        "id": "WpoVBLbLtrdg",
        "outputId": "21a9091c-a10b-4b4d-96fa-db5103fdaa9a"
      },
      "execution_count": 56,
      "outputs": [
        {
          "output_type": "stream",
          "name": "stdout",
          "text": [
            "Voting Acc : 0.125\n",
            "                 precision    recall  f1-score   support\n",
            "\n",
            "           CIN1       0.00      0.00      0.00         4\n",
            "           CIN2       0.10      1.00      0.17         2\n",
            "           CIN3       0.00      0.00      0.00         3\n",
            "Cervical Cancer       1.00      0.07      0.12        15\n",
            "\n",
            "       accuracy                           0.12        24\n",
            "      macro avg       0.27      0.27      0.07        24\n",
            "   weighted avg       0.63      0.12      0.09        24\n",
            "\n"
          ]
        },
        {
          "output_type": "stream",
          "name": "stderr",
          "text": [
            "/usr/local/lib/python3.10/dist-packages/sklearn/metrics/_classification.py:1344: UndefinedMetricWarning: Precision and F-score are ill-defined and being set to 0.0 in labels with no predicted samples. Use `zero_division` parameter to control this behavior.\n",
            "  _warn_prf(average, modifier, msg_start, len(result))\n",
            "/usr/local/lib/python3.10/dist-packages/sklearn/metrics/_classification.py:1344: UndefinedMetricWarning: Precision and F-score are ill-defined and being set to 0.0 in labels with no predicted samples. Use `zero_division` parameter to control this behavior.\n",
            "  _warn_prf(average, modifier, msg_start, len(result))\n",
            "/usr/local/lib/python3.10/dist-packages/sklearn/metrics/_classification.py:1344: UndefinedMetricWarning: Precision and F-score are ill-defined and being set to 0.0 in labels with no predicted samples. Use `zero_division` parameter to control this behavior.\n",
            "  _warn_prf(average, modifier, msg_start, len(result))\n"
          ]
        }
      ]
    },
    {
      "cell_type": "code",
      "source": [
        "#Bagging\n",
        "from sklearn.ensemble import BaggingClassifier\n",
        "\n",
        "tree_bagging_model = BaggingClassifier(tree_clf, n_estimators=10, random_state=42)\n",
        "knn_bagging_model = BaggingClassifier(knn_clf, n_estimators=10, random_state=42)\n",
        "svm_bagging_model = BaggingClassifier(svm_clf, n_estimators=10, random_state=42)\n",
        "\n",
        "# 모델 훈련\n",
        "tree_bagging_model.fit(x_train_df_list_1st, ri_list_1st_CIN)\n",
        "knn_bagging_model.fit(x_train_df_list_1st, ri_list_1st_CIN)\n",
        "svm_bagging_model.fit(x_train_df_list_1st, ri_list_1st_CIN)\n",
        "\n",
        "# 예측\n",
        "tree_predictions = tree_bagging_model.predict(x_test_df_list_2nd)\n",
        "knn_predictions = knn_bagging_model.predict(x_test_df_list_2nd)\n",
        "svm_predictions = svm_bagging_model.predict(x_test_df_list_2nd)\n",
        "\n",
        "#결과\n",
        "print('Bagging tree Acc : {}'.format(accuracy_score(y_test_ri_list_2nd_CIN,tree_pred)))\n",
        "print(classification_report(y_test_ri_list_2nd_CIN,tree_predictions))\n",
        "print('Bagging knn Acc : {}'.format(accuracy_score(y_test_ri_list_2nd_CIN,knn_pred)))\n",
        "print(classification_report(y_test_ri_list_2nd_CIN,knn_predictions))\n",
        "print('Bagging svm Acc : {}'.format(accuracy_score(y_test_ri_list_2nd_CIN,svm_pred)))\n",
        "print(classification_report(y_test_ri_list_2nd_CIN,svm_predictions))"
      ],
      "metadata": {
        "colab": {
          "base_uri": "https://localhost:8080/"
        },
        "id": "D5dLHbffyedK",
        "outputId": "0341f90c-9b49-4a73-c052-5d59d355b0ac"
      },
      "execution_count": 58,
      "outputs": [
        {
          "output_type": "stream",
          "name": "stdout",
          "text": [
            "Bagging tree Acc : 0.125\n",
            "                 precision    recall  f1-score   support\n",
            "\n",
            "           CIN1       0.00      0.00      0.00         4\n",
            "           CIN2       0.09      1.00      0.17         2\n",
            "           CIN3       0.00      0.00      0.00         3\n",
            "Cervical Cancer       1.00      0.07      0.12        15\n",
            "\n",
            "       accuracy                           0.12        24\n",
            "      macro avg       0.27      0.27      0.07        24\n",
            "   weighted avg       0.63      0.12      0.09        24\n",
            "\n",
            "Bagging knn Acc : 0.2916666666666667\n",
            "                 precision    recall  f1-score   support\n",
            "\n",
            "           CIN1       0.00      0.00      0.00         4\n",
            "           CIN2       0.11      1.00      0.20         2\n",
            "           CIN3       0.00      0.00      0.00         3\n",
            "Cervical Cancer       1.00      0.33      0.50        15\n",
            "\n",
            "       accuracy                           0.29        24\n",
            "      macro avg       0.28      0.33      0.17        24\n",
            "   weighted avg       0.63      0.29      0.33        24\n",
            "\n",
            "Bagging svm Acc : 0.625\n",
            "                 precision    recall  f1-score   support\n",
            "\n",
            "           CIN1       0.67      0.50      0.57         4\n",
            "           CIN2       0.05      0.50      0.09         2\n",
            "           CIN3       0.00      0.00      0.00         3\n",
            "Cervical Cancer       0.00      0.00      0.00        15\n",
            "\n",
            "       accuracy                           0.12        24\n",
            "      macro avg       0.18      0.25      0.16        24\n",
            "   weighted avg       0.12      0.12      0.10        24\n",
            "\n"
          ]
        },
        {
          "output_type": "stream",
          "name": "stderr",
          "text": [
            "/usr/local/lib/python3.10/dist-packages/sklearn/metrics/_classification.py:1344: UndefinedMetricWarning: Precision and F-score are ill-defined and being set to 0.0 in labels with no predicted samples. Use `zero_division` parameter to control this behavior.\n",
            "  _warn_prf(average, modifier, msg_start, len(result))\n",
            "/usr/local/lib/python3.10/dist-packages/sklearn/metrics/_classification.py:1344: UndefinedMetricWarning: Precision and F-score are ill-defined and being set to 0.0 in labels with no predicted samples. Use `zero_division` parameter to control this behavior.\n",
            "  _warn_prf(average, modifier, msg_start, len(result))\n",
            "/usr/local/lib/python3.10/dist-packages/sklearn/metrics/_classification.py:1344: UndefinedMetricWarning: Precision and F-score are ill-defined and being set to 0.0 in labels with no predicted samples. Use `zero_division` parameter to control this behavior.\n",
            "  _warn_prf(average, modifier, msg_start, len(result))\n",
            "/usr/local/lib/python3.10/dist-packages/sklearn/metrics/_classification.py:1344: UndefinedMetricWarning: Precision and F-score are ill-defined and being set to 0.0 in labels with no predicted samples. Use `zero_division` parameter to control this behavior.\n",
            "  _warn_prf(average, modifier, msg_start, len(result))\n",
            "/usr/local/lib/python3.10/dist-packages/sklearn/metrics/_classification.py:1344: UndefinedMetricWarning: Precision and F-score are ill-defined and being set to 0.0 in labels with no predicted samples. Use `zero_division` parameter to control this behavior.\n",
            "  _warn_prf(average, modifier, msg_start, len(result))\n",
            "/usr/local/lib/python3.10/dist-packages/sklearn/metrics/_classification.py:1344: UndefinedMetricWarning: Precision and F-score are ill-defined and being set to 0.0 in labels with no predicted samples. Use `zero_division` parameter to control this behavior.\n",
            "  _warn_prf(average, modifier, msg_start, len(result))\n",
            "/usr/local/lib/python3.10/dist-packages/sklearn/metrics/_classification.py:1344: UndefinedMetricWarning: Precision and F-score are ill-defined and being set to 0.0 in labels with no predicted samples. Use `zero_division` parameter to control this behavior.\n",
            "  _warn_prf(average, modifier, msg_start, len(result))\n",
            "/usr/local/lib/python3.10/dist-packages/sklearn/metrics/_classification.py:1344: UndefinedMetricWarning: Precision and F-score are ill-defined and being set to 0.0 in labels with no predicted samples. Use `zero_division` parameter to control this behavior.\n",
            "  _warn_prf(average, modifier, msg_start, len(result))\n",
            "/usr/local/lib/python3.10/dist-packages/sklearn/metrics/_classification.py:1344: UndefinedMetricWarning: Precision and F-score are ill-defined and being set to 0.0 in labels with no predicted samples. Use `zero_division` parameter to control this behavior.\n",
            "  _warn_prf(average, modifier, msg_start, len(result))\n"
          ]
        }
      ]
    },
    {
      "cell_type": "code",
      "source": [
        "##GridSearch\n",
        "from sklearn.model_selection import GridSearchCV\n",
        "\n",
        "dtree = DecisionTreeClassifier()\n",
        "\n",
        "grid_parameters = {\"max_depth\": [1, 2, 3],\n",
        "                   \"min_samples_split\": [2, 3]\n",
        "                   }\n",
        "\n",
        "grid_dtree = GridSearchCV(dtree, param_grid=grid_parameters, cv=3, refit=True)\n",
        "\n",
        "grid_dtree.fit(x_train_df_list_1st, ri_list_1st_CIN)"
      ],
      "metadata": {
        "colab": {
          "base_uri": "https://localhost:8080/",
          "height": 117
        },
        "id": "Cici6Jcv07uO",
        "outputId": "cc1b7698-66a6-4b93-b550-c0cc8eccb9fe"
      },
      "execution_count": 65,
      "outputs": [
        {
          "output_type": "execute_result",
          "data": {
            "text/plain": [
              "GridSearchCV(cv=3, estimator=DecisionTreeClassifier(),\n",
              "             param_grid={'max_depth': [1, 2, 3], 'min_samples_split': [2, 3]})"
            ],
            "text/html": [
              "<style>#sk-container-id-23 {color: black;background-color: white;}#sk-container-id-23 pre{padding: 0;}#sk-container-id-23 div.sk-toggleable {background-color: white;}#sk-container-id-23 label.sk-toggleable__label {cursor: pointer;display: block;width: 100%;margin-bottom: 0;padding: 0.3em;box-sizing: border-box;text-align: center;}#sk-container-id-23 label.sk-toggleable__label-arrow:before {content: \"▸\";float: left;margin-right: 0.25em;color: #696969;}#sk-container-id-23 label.sk-toggleable__label-arrow:hover:before {color: black;}#sk-container-id-23 div.sk-estimator:hover label.sk-toggleable__label-arrow:before {color: black;}#sk-container-id-23 div.sk-toggleable__content {max-height: 0;max-width: 0;overflow: hidden;text-align: left;background-color: #f0f8ff;}#sk-container-id-23 div.sk-toggleable__content pre {margin: 0.2em;color: black;border-radius: 0.25em;background-color: #f0f8ff;}#sk-container-id-23 input.sk-toggleable__control:checked~div.sk-toggleable__content {max-height: 200px;max-width: 100%;overflow: auto;}#sk-container-id-23 input.sk-toggleable__control:checked~label.sk-toggleable__label-arrow:before {content: \"▾\";}#sk-container-id-23 div.sk-estimator input.sk-toggleable__control:checked~label.sk-toggleable__label {background-color: #d4ebff;}#sk-container-id-23 div.sk-label input.sk-toggleable__control:checked~label.sk-toggleable__label {background-color: #d4ebff;}#sk-container-id-23 input.sk-hidden--visually {border: 0;clip: rect(1px 1px 1px 1px);clip: rect(1px, 1px, 1px, 1px);height: 1px;margin: -1px;overflow: hidden;padding: 0;position: absolute;width: 1px;}#sk-container-id-23 div.sk-estimator {font-family: monospace;background-color: #f0f8ff;border: 1px dotted black;border-radius: 0.25em;box-sizing: border-box;margin-bottom: 0.5em;}#sk-container-id-23 div.sk-estimator:hover {background-color: #d4ebff;}#sk-container-id-23 div.sk-parallel-item::after {content: \"\";width: 100%;border-bottom: 1px solid gray;flex-grow: 1;}#sk-container-id-23 div.sk-label:hover label.sk-toggleable__label {background-color: #d4ebff;}#sk-container-id-23 div.sk-serial::before {content: \"\";position: absolute;border-left: 1px solid gray;box-sizing: border-box;top: 0;bottom: 0;left: 50%;z-index: 0;}#sk-container-id-23 div.sk-serial {display: flex;flex-direction: column;align-items: center;background-color: white;padding-right: 0.2em;padding-left: 0.2em;position: relative;}#sk-container-id-23 div.sk-item {position: relative;z-index: 1;}#sk-container-id-23 div.sk-parallel {display: flex;align-items: stretch;justify-content: center;background-color: white;position: relative;}#sk-container-id-23 div.sk-item::before, #sk-container-id-23 div.sk-parallel-item::before {content: \"\";position: absolute;border-left: 1px solid gray;box-sizing: border-box;top: 0;bottom: 0;left: 50%;z-index: -1;}#sk-container-id-23 div.sk-parallel-item {display: flex;flex-direction: column;z-index: 1;position: relative;background-color: white;}#sk-container-id-23 div.sk-parallel-item:first-child::after {align-self: flex-end;width: 50%;}#sk-container-id-23 div.sk-parallel-item:last-child::after {align-self: flex-start;width: 50%;}#sk-container-id-23 div.sk-parallel-item:only-child::after {width: 0;}#sk-container-id-23 div.sk-dashed-wrapped {border: 1px dashed gray;margin: 0 0.4em 0.5em 0.4em;box-sizing: border-box;padding-bottom: 0.4em;background-color: white;}#sk-container-id-23 div.sk-label label {font-family: monospace;font-weight: bold;display: inline-block;line-height: 1.2em;}#sk-container-id-23 div.sk-label-container {text-align: center;}#sk-container-id-23 div.sk-container {/* jupyter's `normalize.less` sets `[hidden] { display: none; }` but bootstrap.min.css set `[hidden] { display: none !important; }` so we also need the `!important` here to be able to override the default hidden behavior on the sphinx rendered scikit-learn.org. See: https://github.com/scikit-learn/scikit-learn/issues/21755 */display: inline-block !important;position: relative;}#sk-container-id-23 div.sk-text-repr-fallback {display: none;}</style><div id=\"sk-container-id-23\" class=\"sk-top-container\"><div class=\"sk-text-repr-fallback\"><pre>GridSearchCV(cv=3, estimator=DecisionTreeClassifier(),\n",
              "             param_grid={&#x27;max_depth&#x27;: [1, 2, 3], &#x27;min_samples_split&#x27;: [2, 3]})</pre><b>In a Jupyter environment, please rerun this cell to show the HTML representation or trust the notebook. <br />On GitHub, the HTML representation is unable to render, please try loading this page with nbviewer.org.</b></div><div class=\"sk-container\" hidden><div class=\"sk-item sk-dashed-wrapped\"><div class=\"sk-label-container\"><div class=\"sk-label sk-toggleable\"><input class=\"sk-toggleable__control sk-hidden--visually\" id=\"sk-estimator-id-25\" type=\"checkbox\" ><label for=\"sk-estimator-id-25\" class=\"sk-toggleable__label sk-toggleable__label-arrow\">GridSearchCV</label><div class=\"sk-toggleable__content\"><pre>GridSearchCV(cv=3, estimator=DecisionTreeClassifier(),\n",
              "             param_grid={&#x27;max_depth&#x27;: [1, 2, 3], &#x27;min_samples_split&#x27;: [2, 3]})</pre></div></div></div><div class=\"sk-parallel\"><div class=\"sk-parallel-item\"><div class=\"sk-item\"><div class=\"sk-label-container\"><div class=\"sk-label sk-toggleable\"><input class=\"sk-toggleable__control sk-hidden--visually\" id=\"sk-estimator-id-26\" type=\"checkbox\" ><label for=\"sk-estimator-id-26\" class=\"sk-toggleable__label sk-toggleable__label-arrow\">estimator: DecisionTreeClassifier</label><div class=\"sk-toggleable__content\"><pre>DecisionTreeClassifier()</pre></div></div></div><div class=\"sk-serial\"><div class=\"sk-item\"><div class=\"sk-estimator sk-toggleable\"><input class=\"sk-toggleable__control sk-hidden--visually\" id=\"sk-estimator-id-27\" type=\"checkbox\" ><label for=\"sk-estimator-id-27\" class=\"sk-toggleable__label sk-toggleable__label-arrow\">DecisionTreeClassifier</label><div class=\"sk-toggleable__content\"><pre>DecisionTreeClassifier()</pre></div></div></div></div></div></div></div></div></div></div>"
            ]
          },
          "metadata": {},
          "execution_count": 65
        }
      ]
    },
    {
      "cell_type": "code",
      "source": [
        "scores_df = pd.DataFrame(grid_dtree.cv_results_)\n",
        "print(scores_df)"
      ],
      "metadata": {
        "colab": {
          "base_uri": "https://localhost:8080/"
        },
        "id": "Zh2ZnOWl08CT",
        "outputId": "7753d3e7-bb05-4992-c9a6-66402f6d8be6"
      },
      "execution_count": 71,
      "outputs": [
        {
          "output_type": "stream",
          "name": "stdout",
          "text": [
            "   mean_fit_time  std_fit_time  mean_score_time  std_score_time  \\\n",
            "0       0.933504      0.304451         0.295906        0.060640   \n",
            "1       0.626400      0.181645         0.167324        0.060591   \n",
            "2       0.462585      0.003530         0.120965        0.000932   \n",
            "3       0.464760      0.010145         0.125091        0.006229   \n",
            "4       0.491285      0.011139         0.130874        0.014152   \n",
            "5       0.839529      0.015483         0.243399        0.032374   \n",
            "\n",
            "  param_max_depth param_min_samples_split  \\\n",
            "0               1                       2   \n",
            "1               1                       3   \n",
            "2               2                       2   \n",
            "3               2                       3   \n",
            "4               3                       2   \n",
            "5               3                       3   \n",
            "\n",
            "                                     params  split0_test_score  \\\n",
            "0  {'max_depth': 1, 'min_samples_split': 2}           0.740260   \n",
            "1  {'max_depth': 1, 'min_samples_split': 3}           0.740260   \n",
            "2  {'max_depth': 2, 'min_samples_split': 2}           0.883117   \n",
            "3  {'max_depth': 2, 'min_samples_split': 3}           0.870130   \n",
            "4  {'max_depth': 3, 'min_samples_split': 2}           0.818182   \n",
            "5  {'max_depth': 3, 'min_samples_split': 3}           0.844156   \n",
            "\n",
            "   split1_test_score  split2_test_score  mean_test_score  std_test_score  \\\n",
            "0           0.701299           0.597403         0.679654        0.060296   \n",
            "1           0.701299           0.623377         0.688312        0.048593   \n",
            "2           0.792208           0.688312         0.787879        0.079588   \n",
            "3           0.766234           0.714286         0.783550        0.064791   \n",
            "4           0.883117           0.714286         0.805195        0.069534   \n",
            "5           0.870130           0.701299         0.805195        0.074227   \n",
            "\n",
            "   rank_test_score  \n",
            "0                6  \n",
            "1                5  \n",
            "2                3  \n",
            "3                4  \n",
            "4                1  \n",
            "5                1  \n"
          ]
        }
      ]
    },
    {
      "cell_type": "code",
      "source": [
        "#best score\n",
        "print(f\"Best Param: {grid_dtree.best_params_}\")\n",
        "print(f\"Best ACC: {grid_dtree.best_score_}\")\n"
      ],
      "metadata": {
        "colab": {
          "base_uri": "https://localhost:8080/"
        },
        "id": "_RPO00QH6_RE",
        "outputId": "cfd4d30b-dd3d-4758-e390-7f3a22cf881d"
      },
      "execution_count": 72,
      "outputs": [
        {
          "output_type": "stream",
          "name": "stdout",
          "text": [
            "Best Param: {'max_depth': 3, 'min_samples_split': 2}\n",
            "Best ACC: 0.8051948051948052\n"
          ]
        }
      ]
    }
  ]
}