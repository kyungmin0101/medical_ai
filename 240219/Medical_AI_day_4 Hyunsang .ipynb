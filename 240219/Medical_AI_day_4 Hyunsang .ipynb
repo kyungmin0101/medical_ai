{
  "nbformat": 4,
  "nbformat_minor": 0,
  "metadata": {
    "colab": {
      "provenance": [],
      "authorship_tag": "ABX9TyPAHXeUHjCx+/MjUuxB68OJ",
      "include_colab_link": true
    },
    "kernelspec": {
      "name": "python3",
      "display_name": "Python 3"
    },
    "language_info": {
      "name": "python"
    }
  },
  "cells": [
    {
      "cell_type": "markdown",
      "metadata": {
        "id": "view-in-github",
        "colab_type": "text"
      },
      "source": [
        "<a href=\"https://colab.research.google.com/github/kyungmin0101/medical_ai/blob/main/240219/Medical_AI_day_4%20Hyunsang%20.ipynb\" target=\"_parent\"><img src=\"https://colab.research.google.com/assets/colab-badge.svg\" alt=\"Open In Colab\"/></a>"
      ]
    },
    {
      "cell_type": "code",
      "execution_count": 65,
      "metadata": {
        "colab": {
          "base_uri": "https://localhost:8080/"
        },
        "id": "rgUi_YSAimP8",
        "outputId": "595c7aa9-aa58-47ce-afb1-d1536685bd93"
      },
      "outputs": [
        {
          "output_type": "stream",
          "name": "stdout",
          "text": [
            "Drive already mounted at /content/drive; to attempt to forcibly remount, call drive.mount(\"/content/drive\", force_remount=True).\n"
          ]
        }
      ],
      "source": [
        "from google.colab import drive\n",
        "drive.mount('/content/drive')"
      ]
    },
    {
      "cell_type": "code",
      "source": [
        "import glob\n",
        "import csv\n",
        "import pandas as pd\n",
        "path = \"/content/drive/MyDrive/Refractive Index Measurements New/2ndSeries_21.05.21/*/{}*\".format('W')\n",
        "df_list = []\n",
        "ri_list = []\n",
        "for file in glob.glob(path, recursive = True) :\n",
        "  f = open(file,'rt')\n",
        "  reader = csv.reader(f)\n",
        "  csv_context = []\n",
        "  for raw in reader :\n",
        "    csv_context.append(raw)\n",
        "  f.close()\n",
        "\n",
        "  df_list.append(pd.DataFrame(csv_context)[24:])\n",
        "  ri_list.append(file.split('/')[-2])"
      ],
      "metadata": {
        "id": "Bsb5u0HKlsHy"
      },
      "execution_count": 81,
      "outputs": []
    },
    {
      "cell_type": "code",
      "source": [
        "ri_list"
      ],
      "metadata": {
        "id": "80BAv9fkAXwh"
      },
      "execution_count": null,
      "outputs": []
    },
    {
      "cell_type": "code",
      "source": [
        "ri_list_2=[]\n",
        "for i in range(len(ri_list)) :\n",
        "  if 1.3 <= float(ri_list[i]) <= 1.32 :\n",
        "    ri_list_2.append(\"CIN1\")\n",
        "  if 1.33 <= float(ri_list[i]) <= 1.37 :\n",
        "    ri_list_2.append(\"CIN2\")\n",
        "  if 1.38 <= float(ri_list[i]) <= 1.39 :\n",
        "    ri_list_2.append(\"CIN3\")\n",
        "  if float(ri_list[i]) >= 1.4 :\n",
        "    ri_list_2.append(\"Cervical Cancer\")\n",
        ""
      ],
      "metadata": {
        "id": "zsq7RZISxPE2"
      },
      "execution_count": 83,
      "outputs": []
    },
    {
      "cell_type": "code",
      "source": [
        "from sklearn.model_selection import train_test_split\n",
        "from sklearn.metrics import accuracy_score, classification_report\n",
        "from sklearn.tree import DecisionTreeClassifier\n",
        "from sklearn.tree import plot_tree\n",
        "import numpy as np\n",
        "import time\n",
        "\n",
        "DTC = DecisionTreeClassifier()\n",
        "\n",
        "x_train, x_test, y_train, y_test = train_test_split(df_list, ri_list_2, test_size=0.1)\n",
        "\n",
        "tree_model = DecisionTreeClassifier(random_state=2000)\n",
        "\n",
        "nsamples, nx, ny = np.array(x_train).shape\n",
        "tree_x_train = np.array(x_train).reshape((nsamples,nx*ny))\n",
        "\n",
        "nsamples, nx, ny = np.array(x_test).shape\n",
        "tree_x_test = np.array(x_test).reshape((nsamples,nx*ny))\n",
        "\n",
        "Training_start_time = time.time()\n",
        "tree_model.fit(tree_x_train, y_train)\n",
        "Training_end_time = time.time()\n",
        "\n",
        "Training_execution_time = Training_end_time - Training_start_time\n",
        "\n"
      ],
      "metadata": {
        "id": "QslCLlYvnQN8"
      },
      "execution_count": 88,
      "outputs": []
    },
    {
      "cell_type": "code",
      "source": [
        "Predict_start_time = time.time()\n",
        "DTC_pred = tree_model.predict(tree_x_test)\n",
        "Predict_end_time = time.time()\n",
        "\n",
        "Predict_execution_time = Predict_end_time - Predict_start_time\n",
        "\n",
        "accuracy = accuracy_score(y_test, DTC_pred)\n",
        "\n",
        "print('DTC Acc : {}'.format(accuracy_score(y_test,DTC_pred)))\n",
        "print(classification_report(y_test, DTC_pred))\n",
        "print(f\"Training Time: {Training_execution_time:.4f} sec\")\n",
        "print(f\"Predict Time: {Predict_execution_time:.4f} sec\")"
      ],
      "metadata": {
        "colab": {
          "base_uri": "https://localhost:8080/"
        },
        "id": "Rrppkri3plQH",
        "outputId": "57d9e10a-061c-45a5-b568-377230529ffc"
      },
      "execution_count": 97,
      "outputs": [
        {
          "output_type": "stream",
          "name": "stdout",
          "text": [
            "DTC Acc : 0.9130434782608695\n",
            "                 precision    recall  f1-score   support\n",
            "\n",
            "           CIN1       0.80      1.00      0.89         4\n",
            "           CIN2       1.00      0.60      0.75         5\n",
            "           CIN3       0.50      1.00      0.67         1\n",
            "Cervical Cancer       1.00      1.00      1.00        13\n",
            "\n",
            "       accuracy                           0.91        23\n",
            "      macro avg       0.82      0.90      0.83        23\n",
            "   weighted avg       0.94      0.91      0.91        23\n",
            "\n",
            "Training Time: 0.7300 sec\n",
            "Predict Time: 0.1051 sec\n"
          ]
        }
      ]
    }
  ]
}