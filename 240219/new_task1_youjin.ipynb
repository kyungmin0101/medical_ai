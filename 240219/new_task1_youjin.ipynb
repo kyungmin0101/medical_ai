{
  "nbformat": 4,
  "nbformat_minor": 0,
  "metadata": {
    "colab": {
      "provenance": [],
      "mount_file_id": "1eI5owYIWsP9wVXyr7oqxGFYEi1hgR-7U",
      "authorship_tag": "ABX9TyPPelDlCszeP165/LaY9jXW",
      "include_colab_link": true
    },
    "kernelspec": {
      "name": "python3",
      "display_name": "Python 3"
    },
    "language_info": {
      "name": "python"
    }
  },
  "cells": [
    {
      "cell_type": "markdown",
      "metadata": {
        "id": "view-in-github",
        "colab_type": "text"
      },
      "source": [
        "<a href=\"https://colab.research.google.com/github/kyungmin0101/medical_ai/blob/main/240219/new_task1_youjin.ipynb\" target=\"_parent\"><img src=\"https://colab.research.google.com/assets/colab-badge.svg\" alt=\"Open In Colab\"/></a>"
      ]
    },
    {
      "cell_type": "code",
      "execution_count": 1,
      "metadata": {
        "id": "QqjSCRNzWYkV",
        "colab": {
          "base_uri": "https://localhost:8080/"
        },
        "outputId": "224e0d12-a809-4cb9-ffea-b18658e41fb7"
      },
      "outputs": [
        {
          "output_type": "stream",
          "name": "stdout",
          "text": [
            "Drive already mounted at /content/drive; to attempt to forcibly remount, call drive.mount(\"/content/drive\", force_remount=True).\n"
          ]
        }
      ],
      "source": [
        "from google.colab import drive\n",
        "drive.mount('/content/drive')"
      ]
    },
    {
      "cell_type": "markdown",
      "source": [
        "Signal Smoothing - Gaussian\n"
      ],
      "metadata": {
        "id": "T9DkVG_is5e-"
      }
    },
    {
      "cell_type": "code",
      "source": [
        "import pandas as pd\n",
        "import csv\n",
        "from scipy.ndimage import gaussian_filter\n",
        "import os\n",
        "\n",
        "base_directory = '/content/drive/MyDrive/Refractive_Index_Measurements_New/1stSeries_07.05.21'\n",
        "\n",
        "all_csv_X = []\n",
        "all_csv_Y = []\n",
        "\n",
        "for root, dirs, files in os.walk(base_directory):\n",
        "    for file in files:\n",
        "        if file.endswith('.CSV') and file != 'REF.CSV':\n",
        "            file_path = os.path.join(root, file)\n",
        "\n",
        "            with open(file_path, 'rt') as f:\n",
        "                reader = csv.reader(f)\n",
        "                csv_content = [raw for raw in reader]\n",
        "            f.close()\n",
        "            df = pd.DataFrame(csv_content)[24:].reset_index(drop=True)\n",
        "            df = df.astype(float)\n",
        "            df.columns = ['X', 'Y']\n",
        "            Y = float(os.path.basename(root))\n",
        "            all_csv_X.append(df)\n",
        "            all_csv_Y.append(Y)\n"
      ],
      "metadata": {
        "id": "DZXYF-OvbQO0"
      },
      "execution_count": 2,
      "outputs": []
    },
    {
      "cell_type": "markdown",
      "source": [
        "# **classification - 5 label**"
      ],
      "metadata": {
        "id": "H4tyBEvxyO4T"
      }
    },
    {
      "cell_type": "code",
      "source": [
        "Y = pd.DataFrame(all_csv_Y, columns=['Y'])\n",
        "df_Y = pd.DataFrame(all_csv_Y, columns=['Y'])\n",
        "len(Y)\n",
        "for i in range(len(df_Y['Y'])):\n",
        "    if df_Y['Y'][i] < 1.30:\n",
        "        df_Y['Y'][i] = 'Normal_tissue'\n",
        "    elif df_Y['Y'][i] >= 1.30 and df_Y['Y'][i] <=1.32:\n",
        "      df_Y['Y'][i] = 'CIN_1'\n",
        "    elif df_Y['Y'][i] >= 1.33 and df_Y['Y'][i] <1.38:\n",
        "      df_Y['Y'][i] = 'CIN_2'\n",
        "    elif df_Y['Y'][i] >= 1.38 and df_Y['Y'][i] <=1.39:\n",
        "      df_Y['Y'][i] = 'CIN_3'\n",
        "    else:\n",
        "      df_Y['Y'][i] = 'Cervical_Cancer'\n",
        "print(Y)\n",
        "print(df_Y)"
      ],
      "metadata": {
        "colab": {
          "base_uri": "https://localhost:8080/"
        },
        "id": "cc42iO5n7VW8",
        "outputId": "2db4a48b-ff09-48d2-c493-90140619636b"
      },
      "execution_count": 5,
      "outputs": [
        {
          "output_type": "stream",
          "name": "stdout",
          "text": [
            "        Y\n",
            "0    1.31\n",
            "1    1.31\n",
            "2    1.31\n",
            "3    1.31\n",
            "4    1.31\n",
            "..    ...\n",
            "226  1.42\n",
            "227  1.42\n",
            "228  1.42\n",
            "229  1.42\n",
            "230  1.42\n",
            "\n",
            "[231 rows x 1 columns]\n",
            "                   Y\n",
            "0              CIN_1\n",
            "1              CIN_1\n",
            "2              CIN_1\n",
            "3              CIN_1\n",
            "4              CIN_1\n",
            "..               ...\n",
            "226  Cervical_Cancer\n",
            "227  Cervical_Cancer\n",
            "228  Cervical_Cancer\n",
            "229  Cervical_Cancer\n",
            "230  Cervical_Cancer\n",
            "\n",
            "[231 rows x 1 columns]\n"
          ]
        }
      ]
    },
    {
      "cell_type": "markdown",
      "source": [
        "# **classification - 2 label**"
      ],
      "metadata": {
        "id": "2MJ2_mCayIDS"
      }
    },
    {
      "cell_type": "code",
      "source": [
        "Y = pd.DataFrame(all_csv_Y, columns=['Y'])\n",
        "df_Y = pd.DataFrame(all_csv_Y, columns=['Y'])\n",
        "len(Y)\n",
        "for i in range(len(df_Y['Y'])):\n",
        "    if df_Y['Y'][i] < 1.30:\n",
        "        df_Y['Y'][i] = 'Normal_tissue'\n",
        "    else:\n",
        "      df_Y['Y'][i] = 'Cancer'\n",
        "print(Y)\n",
        "print(df_Y)"
      ],
      "metadata": {
        "id": "U0Ls78XOsHwt",
        "colab": {
          "base_uri": "https://localhost:8080/"
        },
        "outputId": "104cc4f3-2b1b-4d87-969d-89c7ac55980e"
      },
      "execution_count": 4,
      "outputs": [
        {
          "output_type": "stream",
          "name": "stdout",
          "text": [
            "        Y\n",
            "0    1.31\n",
            "1    1.31\n",
            "2    1.31\n",
            "3    1.31\n",
            "4    1.31\n",
            "..    ...\n",
            "226  1.42\n",
            "227  1.42\n",
            "228  1.42\n",
            "229  1.42\n",
            "230  1.42\n",
            "\n",
            "[231 rows x 1 columns]\n",
            "          Y\n",
            "0    Cancer\n",
            "1    Cancer\n",
            "2    Cancer\n",
            "3    Cancer\n",
            "4    Cancer\n",
            "..      ...\n",
            "226  Cancer\n",
            "227  Cancer\n",
            "228  Cancer\n",
            "229  Cancer\n",
            "230  Cancer\n",
            "\n",
            "[231 rows x 1 columns]\n"
          ]
        }
      ]
    },
    {
      "cell_type": "markdown",
      "source": [
        "# **features Calculation**"
      ],
      "metadata": {
        "id": "gNZX95W1yRKG"
      }
    },
    {
      "cell_type": "code",
      "source": [
        "import numpy as np\n",
        "from scipy.ndimage import gaussian_filter\n",
        "from scipy.signal import find_peaks\n",
        "\n",
        "analysis_values = []\n",
        "for df, label in zip(all_csv_X, all_csv_Y):\n",
        "    smoothed_signal = gaussian_filter(df['Y'], sigma=50)\n",
        "    peaks, _ = find_peaks(smoothed_signal)\n",
        "\n",
        "    peak_values = df['Y'][peaks].reset_index(drop=True)\n",
        "    peak_times = df['X'][peaks].reset_index(drop=True)\n",
        "\n",
        "    time_diff = np.diff(peak_times)\n",
        "    std_signal_peak = np.std(time_diff)\n",
        "    mean_signal_peak = np.mean(time_diff)\n",
        "    min_signal_peak = np.min(time_diff)\n",
        "\n",
        "    analysis_values.append([std_signal_peak, min_signal_peak, mean_signal_peak])\n",
        "\n",
        "data = pd.DataFrame(analysis_values, columns=['std','min', 'mean'])\n",
        "print(data)"
      ],
      "metadata": {
        "colab": {
          "base_uri": "https://localhost:8080/"
        },
        "id": "g5Kku_vxpUF9",
        "outputId": "375876ce-32bb-471f-b0ee-4edd6e430ccc"
      },
      "execution_count": 43,
      "outputs": [
        {
          "output_type": "stream",
          "name": "stdout",
          "text": [
            "          std     min      mean\n",
            "0    0.081840  3.0754  3.210839\n",
            "1    3.510823  3.0556  3.940971\n",
            "2    0.082734  3.0556  3.209974\n",
            "3    0.079995  3.0555  3.209974\n",
            "4    0.081905  3.0555  3.209970\n",
            "..        ...     ...       ...\n",
            "226  0.065103  2.8175  2.914467\n",
            "227  0.050467  2.8571  2.925489\n",
            "228  0.061652  2.8174  2.914456\n",
            "229  0.042073  2.8572  2.936513\n",
            "230  0.060625  2.8373  2.916667\n",
            "\n",
            "[231 rows x 3 columns]\n"
          ]
        }
      ]
    },
    {
      "cell_type": "markdown",
      "source": [
        "# **Dataset**"
      ],
      "metadata": {
        "id": "2nKK913HycoP"
      }
    },
    {
      "cell_type": "code",
      "source": [
        "spectrum_data = pd.concat([data, df_Y], axis=1)\n",
        "print(spectrum_data)\n"
      ],
      "metadata": {
        "colab": {
          "base_uri": "https://localhost:8080/"
        },
        "id": "PpzLtFaw7Euu",
        "outputId": "3a9d6fdc-4770-44c9-d585-05ec80ba2e1d"
      },
      "execution_count": 44,
      "outputs": [
        {
          "output_type": "stream",
          "name": "stdout",
          "text": [
            "          std     min      mean                Y\n",
            "0    0.081840  3.0754  3.210839            CIN_1\n",
            "1    3.510823  3.0556  3.940971            CIN_1\n",
            "2    0.082734  3.0556  3.209974            CIN_1\n",
            "3    0.079995  3.0555  3.209974            CIN_1\n",
            "4    0.081905  3.0555  3.209970            CIN_1\n",
            "..        ...     ...       ...              ...\n",
            "226  0.065103  2.8175  2.914467  Cervical_Cancer\n",
            "227  0.050467  2.8571  2.925489  Cervical_Cancer\n",
            "228  0.061652  2.8174  2.914456  Cervical_Cancer\n",
            "229  0.042073  2.8572  2.936513  Cervical_Cancer\n",
            "230  0.060625  2.8373  2.916667  Cervical_Cancer\n",
            "\n",
            "[231 rows x 4 columns]\n"
          ]
        }
      ]
    },
    {
      "cell_type": "code",
      "source": [
        "from sklearn.model_selection import train_test_split\n",
        "XX = spectrum_data[['mean','std']]\n",
        "YY = spectrum_data['Y']\n",
        "\n",
        "from sklearn.preprocessing import LabelEncoder\n",
        "#le = LabelEncoder()\n",
        "#Y_s = le.fit_transform(YY)\n",
        "\n",
        "X_train, X_test, y_train, y_test = train_test_split(XX, YY, test_size=0.3, train_size=0.7, random_state=123)\n",
        "print(X_train.shape)\n",
        "print(y_train.shape)"
      ],
      "metadata": {
        "colab": {
          "base_uri": "https://localhost:8080/"
        },
        "id": "5VDghV4m7BsT",
        "outputId": "9ab4c1f3-f1d0-4042-f8ef-ef864d92116a"
      },
      "execution_count": 52,
      "outputs": [
        {
          "output_type": "stream",
          "name": "stdout",
          "text": [
            "(161, 2)\n",
            "(161,)\n"
          ]
        }
      ]
    },
    {
      "cell_type": "code",
      "source": [
        "from sklearn.neighbors import KNeighborsClassifier\n",
        "from sklearn.ensemble import RandomForestClassifier\n",
        "from sklearn.svm import SVC\n",
        "from sklearn.metrics import confusion_matrix, classification_report\n",
        "from sklearn.metrics import accuracy_score\n",
        "import seaborn as sns\n",
        "import matplotlib.pyplot as plt\n",
        "import time\n",
        "\n",
        "knn = KNeighborsClassifier(n_neighbors=1)\n",
        "rf = RandomForestClassifier(n_estimators=100)\n",
        "svm= SVC(kernel='rbf', C=1.0)\n",
        "\n",
        "start_knn = time.time()\n",
        "knn.fit(X_train, y_train)\n",
        "end_knn = time.time()\n",
        "\n",
        "start_rf = time.time()\n",
        "rf.fit(X_train, y_train)\n",
        "end_rf = time.time()\n",
        "\n",
        "start_svm = time.time()\n",
        "svm.fit(X_train, y_train)\n",
        "end_svm = time.time()\n",
        "\n",
        "\n",
        "y_knn = knn.predict(X_test)\n",
        "y_rf = rf.predict(X_test)\n",
        "y_svm = svm.predict(X_test)\n",
        "\n",
        "#Y_test = le.inverse_transform(y_test)\n",
        "#Y_knn = le.inverse_transform(predicted_labels_knn)\n",
        "#Y_rf = le.inverse_transform(predicted_labels_rf)\n",
        "#Y_svm = le.inverse_transform(predicted_labels_svm)\n",
        "\n",
        "print(end_knn-start_knn)\n",
        "print(end_svm-start_svm)\n",
        "print(end_rf-start_rf)"
      ],
      "metadata": {
        "colab": {
          "base_uri": "https://localhost:8080/"
        },
        "id": "CMKFbvj-vdm1",
        "outputId": "7b71aee1-a7db-4e65-944e-39f72e8923ff"
      },
      "execution_count": 53,
      "outputs": [
        {
          "output_type": "stream",
          "name": "stdout",
          "text": [
            "0.010347604751586914\n",
            "0.008111238479614258\n",
            "0.29051923751831055\n"
          ]
        }
      ]
    },
    {
      "cell_type": "markdown",
      "source": [
        "**KNN**"
      ],
      "metadata": {
        "id": "2B6p2HfXvjwv"
      }
    },
    {
      "cell_type": "code",
      "source": [
        "from sklearn.metrics import accuracy_score\n",
        "accuracy_knn = accuracy_score(y_test, y_knn)\n",
        "print(f\"knn_Accuracy: {accuracy_knn}\")\n",
        "\n",
        "cm_knn = confusion_matrix(y_test, y_knn)\n",
        "sns.heatmap(cm_knn, annot=True, fmt=\"d\", cmap=\"Blues\", cbar=False)\n",
        "\n",
        "plt.xlabel(\"Predicted Label\")\n",
        "plt.ylabel(\"True Label\")\n",
        "plt.title(\"Confusion Matrix\")\n",
        "\n",
        "report = classification_report(y_test, y_knn)\n",
        "\n",
        "print(report)\n",
        "\n",
        "# Display the plot\n",
        "plt.show()"
      ],
      "metadata": {
        "colab": {
          "base_uri": "https://localhost:8080/",
          "height": 676
        },
        "id": "a_wdDMEJ920X",
        "outputId": "4ff378b3-3d98-4df4-bc5b-c3eb838e1374"
      },
      "execution_count": 54,
      "outputs": [
        {
          "output_type": "stream",
          "name": "stdout",
          "text": [
            "knn_Accuracy: 1.0\n",
            "                 precision    recall  f1-score   support\n",
            "\n",
            "          CIN_1       1.00      1.00      1.00         7\n",
            "          CIN_2       1.00      1.00      1.00        17\n",
            "          CIN_3       1.00      1.00      1.00         7\n",
            "Cervical_Cancer       1.00      1.00      1.00        39\n",
            "\n",
            "       accuracy                           1.00        70\n",
            "      macro avg       1.00      1.00      1.00        70\n",
            "   weighted avg       1.00      1.00      1.00        70\n",
            "\n"
          ]
        },
        {
          "output_type": "display_data",
          "data": {
            "text/plain": [
              "<Figure size 640x480 with 1 Axes>"
            ],
            "image/png": "[encoded data removed]"
          },
          "metadata": {}
        }
      ]
    },
    {
      "cell_type": "markdown",
      "source": [
        "**Random Forest**"
      ],
      "metadata": {
        "id": "_FD1HkMPvos6"
      }
    },
    {
      "cell_type": "code",
      "source": [
        "from sklearn.metrics import accuracy_score\n",
        "accuracy_rf = accuracy_score(y_test, y_rf)\n",
        "print(f\"rf_Accuracy: {accuracy_rf}\")\n",
        "\n",
        "cm_rf = confusion_matrix(y_test, y_rf)\n",
        "sns.heatmap(cm_rf, annot=True, fmt=\"d\", cmap=\"Blues\", cbar=False)\n",
        "\n",
        "plt.xlabel(\"Predicted Label\")\n",
        "plt.ylabel(\"True Label\")\n",
        "plt.title(\"Confusion Matrix\")\n",
        "\n",
        "report = classification_report(y_test, y_rf)\n",
        "\n",
        "print(report)\n",
        "\n",
        "# Display the plot\n",
        "plt.show()"
      ],
      "metadata": {
        "colab": {
          "base_uri": "https://localhost:8080/",
          "height": 676
        },
        "id": "L1nO4-rJvoAT",
        "outputId": "eb17be88-0878-4f93-a2a9-14afe9a613c8"
      },
      "execution_count": 55,
      "outputs": [
        {
          "output_type": "stream",
          "name": "stdout",
          "text": [
            "rf_Accuracy: 0.9714285714285714\n",
            "                 precision    recall  f1-score   support\n",
            "\n",
            "          CIN_1       1.00      1.00      1.00         7\n",
            "          CIN_2       1.00      1.00      1.00        17\n",
            "          CIN_3       1.00      0.71      0.83         7\n",
            "Cervical_Cancer       0.95      1.00      0.97        39\n",
            "\n",
            "       accuracy                           0.97        70\n",
            "      macro avg       0.99      0.93      0.95        70\n",
            "   weighted avg       0.97      0.97      0.97        70\n",
            "\n"
          ]
        },
        {
          "output_type": "display_data",
          "data": {
            "text/plain": [
              "<Figure size 640x480 with 1 Axes>"
            ],
            "image/png": "[encoded data removed]"
          },
          "metadata": {}
        }
      ]
    },
    {
      "cell_type": "markdown",
      "source": [
        "**SVM**"
      ],
      "metadata": {
        "id": "LVG7r1uoxVhl"
      }
    },
    {
      "cell_type": "code",
      "source": [
        "from sklearn.metrics import accuracy_score\n",
        "accuracy_svm = accuracy_score(y_test, y_svm)\n",
        "print(f\"svm_Accuracy: {accuracy_svm}\")\n",
        "\n",
        "cm_svm = confusion_matrix(y_test, y_svm)\n",
        "sns.heatmap(cm_svm, annot=True, fmt=\"d\", cmap=\"Blues\", cbar=False)\n",
        "\n",
        "plt.xlabel(\"Predicted Label\")\n",
        "plt.ylabel(\"True Label\")\n",
        "plt.title(\"Confusion Matrix\")\n",
        "\n",
        "report = classification_report(y_test, y_svm)\n",
        "\n",
        "print(report)\n",
        "\n",
        "# Display the plot\n",
        "plt.show()"
      ],
      "metadata": {
        "colab": {
          "base_uri": "https://localhost:8080/",
          "height": 676
        },
        "id": "zOMV69ElxX6d",
        "outputId": "85cf4a78-e878-42cf-d298-7b931064ea9d"
      },
      "execution_count": 56,
      "outputs": [
        {
          "output_type": "stream",
          "name": "stdout",
          "text": [
            "svm_Accuracy: 0.8714285714285714\n",
            "                 precision    recall  f1-score   support\n",
            "\n",
            "          CIN_1       1.00      0.57      0.73         7\n",
            "          CIN_2       0.74      1.00      0.85        17\n",
            "          CIN_3       1.00      0.14      0.25         7\n",
            "Cervical_Cancer       0.93      1.00      0.96        39\n",
            "\n",
            "       accuracy                           0.87        70\n",
            "      macro avg       0.92      0.68      0.70        70\n",
            "   weighted avg       0.90      0.87      0.84        70\n",
            "\n"
          ]
        },
        {
          "output_type": "display_data",
          "data": {
            "text/plain": [
              "<Figure size 640x480 with 1 Axes>"
            ],
            "image/png": "[encoded data removed]"
          },
          "metadata": {}
        }
      ]
    }
  ]
}